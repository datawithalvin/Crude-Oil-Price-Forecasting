{
 "cells": [
  {
   "attachments": {},
   "cell_type": "markdown",
   "metadata": {},
   "source": [
    "# Build Crude Oil Price Forecasting Models with LSTM"
   ]
  },
  {
   "cell_type": "code",
   "execution_count": 17,
   "metadata": {},
   "outputs": [],
   "source": [
    "# import standard libraries\n",
    "import numpy as np\n",
    "import pandas as pd\n",
    "import glob\n",
    "import math\n",
    "import time\n",
    "import os\n",
    "\n",
    "import warnings\n",
    "warnings.filterwarnings(\"ignore\")\n",
    "\n",
    "import datetime\n",
    "from datetime import date, timedelta\n",
    "\n",
    "\n",
    "## import statistical library\n",
    "from scipy.stats import spearmanr\n",
    "import scipy.stats as stats\n",
    "from scipy.stats import lognorm\n",
    "\n",
    "\n",
    "# import viz libraries\n",
    "import seaborn as sns\n",
    "import plotly.express as px\n",
    "import plotly.graph_objects as go\n",
    "import matplotlib.pyplot as plt\n",
    "import matplotlib.dates as mdates\n",
    "%matplotlib inline\n",
    "\n",
    "\n",
    "# import model libraries\n",
    "from sklearn.preprocessing import MinMaxScaler\n",
    "from sklearn.metrics import mean_squared_error\n",
    "from tensorflow.keras.models import Sequential\n",
    "from tensorflow.keras.layers import Dense, LSTM\n",
    "from keras.layers import Dropout\n",
    "from tensorflow.keras.optimizers import Adam\n",
    "from keras.callbacks import EarlyStopping\n",
    "from keras.models import load_model\n",
    "from keras.utils.vis_utils import plot_model\n",
    "from keras.regularizers import l2\n",
    "from keras.constraints import max_norm"
   ]
  },
  {
   "cell_type": "code",
   "execution_count": 18,
   "metadata": {},
   "outputs": [],
   "source": [
    "import os\n",
    "os.environ[\"PATH\"] += os.pathsep + 'C:/Program Files/Graphviz/bin/'"
   ]
  },
  {
   "cell_type": "code",
   "execution_count": 19,
   "metadata": {},
   "outputs": [],
   "source": [
    "today_date = date.today()\n",
    "days = pd.date_range(start=today_date, periods=14)\n",
    "yesterday = today_date - timedelta(days=1)\n",
    "yesterday = yesterday.strftime(\"%Y-%m-%d\")\n",
    "today_date = today_date.strftime(\"%Y-%m-%d\")"
   ]
  },
  {
   "attachments": {},
   "cell_type": "markdown",
   "metadata": {},
   "source": [
    "## Buat LSTM untuk Crude Oil Price"
   ]
  },
  {
   "cell_type": "code",
   "execution_count": 20,
   "metadata": {},
   "outputs": [],
   "source": [
    "# set file path\n",
    "crude = \"../historical-dataset/Crude Oil Prices.csv\"\n",
    "\n",
    "# load dataset\n",
    "main_crude = pd.read_csv(crude, parse_dates=[\"Date\"], index_col=[\"Date\"]).sort_index(ascending=True)"
   ]
  },
  {
   "cell_type": "code",
   "execution_count": 21,
   "metadata": {},
   "outputs": [
    {
     "data": {
      "text/html": [
       "<div>\n",
       "<style scoped>\n",
       "    .dataframe tbody tr th:only-of-type {\n",
       "        vertical-align: middle;\n",
       "    }\n",
       "\n",
       "    .dataframe tbody tr th {\n",
       "        vertical-align: top;\n",
       "    }\n",
       "\n",
       "    .dataframe thead th {\n",
       "        text-align: right;\n",
       "    }\n",
       "</style>\n",
       "<table border=\"1\" class=\"dataframe\">\n",
       "  <thead>\n",
       "    <tr style=\"text-align: right;\">\n",
       "      <th></th>\n",
       "      <th>Price</th>\n",
       "      <th>Open</th>\n",
       "      <th>High</th>\n",
       "      <th>Low</th>\n",
       "      <th>Vol.</th>\n",
       "      <th>Change %</th>\n",
       "    </tr>\n",
       "    <tr>\n",
       "      <th>Date</th>\n",
       "      <th></th>\n",
       "      <th></th>\n",
       "      <th></th>\n",
       "      <th></th>\n",
       "      <th></th>\n",
       "      <th></th>\n",
       "    </tr>\n",
       "  </thead>\n",
       "  <tbody>\n",
       "    <tr>\n",
       "      <th>1994-01-03</th>\n",
       "      <td>14.56</td>\n",
       "      <td>14.10</td>\n",
       "      <td>14.65</td>\n",
       "      <td>14.11</td>\n",
       "      <td>37.38K</td>\n",
       "      <td>2.75%</td>\n",
       "    </tr>\n",
       "    <tr>\n",
       "      <th>1994-01-04</th>\n",
       "      <td>14.67</td>\n",
       "      <td>14.55</td>\n",
       "      <td>14.72</td>\n",
       "      <td>14.35</td>\n",
       "      <td>37.75K</td>\n",
       "      <td>0.76%</td>\n",
       "    </tr>\n",
       "    <tr>\n",
       "      <th>1994-01-05</th>\n",
       "      <td>15.34</td>\n",
       "      <td>14.50</td>\n",
       "      <td>15.42</td>\n",
       "      <td>14.65</td>\n",
       "      <td>69.69K</td>\n",
       "      <td>4.57%</td>\n",
       "    </tr>\n",
       "    <tr>\n",
       "      <th>1994-01-06</th>\n",
       "      <td>15.42</td>\n",
       "      <td>15.34</td>\n",
       "      <td>15.61</td>\n",
       "      <td>15.05</td>\n",
       "      <td>51.95K</td>\n",
       "      <td>0.52%</td>\n",
       "    </tr>\n",
       "    <tr>\n",
       "      <th>1994-01-07</th>\n",
       "      <td>15.32</td>\n",
       "      <td>15.40</td>\n",
       "      <td>15.46</td>\n",
       "      <td>15.23</td>\n",
       "      <td>31.71K</td>\n",
       "      <td>-0.65%</td>\n",
       "    </tr>\n",
       "  </tbody>\n",
       "</table>\n",
       "</div>"
      ],
      "text/plain": [
       "            Price   Open   High    Low    Vol. Change %\n",
       "Date                                                   \n",
       "1994-01-03  14.56  14.10  14.65  14.11  37.38K    2.75%\n",
       "1994-01-04  14.67  14.55  14.72  14.35  37.75K    0.76%\n",
       "1994-01-05  15.34  14.50  15.42  14.65  69.69K    4.57%\n",
       "1994-01-06  15.42  15.34  15.61  15.05  51.95K    0.52%\n",
       "1994-01-07  15.32  15.40  15.46  15.23  31.71K   -0.65%"
      ]
     },
     "execution_count": 21,
     "metadata": {},
     "output_type": "execute_result"
    }
   ],
   "source": [
    "# display first five rows\n",
    "main_crude.head()"
   ]
  },
  {
   "cell_type": "code",
   "execution_count": 22,
   "metadata": {},
   "outputs": [
    {
     "data": {
      "text/html": [
       "<div>\n",
       "<style scoped>\n",
       "    .dataframe tbody tr th:only-of-type {\n",
       "        vertical-align: middle;\n",
       "    }\n",
       "\n",
       "    .dataframe tbody tr th {\n",
       "        vertical-align: top;\n",
       "    }\n",
       "\n",
       "    .dataframe thead th {\n",
       "        text-align: right;\n",
       "    }\n",
       "</style>\n",
       "<table border=\"1\" class=\"dataframe\">\n",
       "  <thead>\n",
       "    <tr style=\"text-align: right;\">\n",
       "      <th></th>\n",
       "      <th>Price</th>\n",
       "      <th>Open</th>\n",
       "      <th>High</th>\n",
       "      <th>Low</th>\n",
       "      <th>Vol.</th>\n",
       "      <th>Change %</th>\n",
       "    </tr>\n",
       "    <tr>\n",
       "      <th>Date</th>\n",
       "      <th></th>\n",
       "      <th></th>\n",
       "      <th></th>\n",
       "      <th></th>\n",
       "      <th></th>\n",
       "      <th></th>\n",
       "    </tr>\n",
       "  </thead>\n",
       "  <tbody>\n",
       "    <tr>\n",
       "      <th>2022-12-09</th>\n",
       "      <td>71.50</td>\n",
       "      <td>72.07</td>\n",
       "      <td>72.92</td>\n",
       "      <td>70.11</td>\n",
       "      <td>NaN</td>\n",
       "      <td>-0.78%</td>\n",
       "    </tr>\n",
       "    <tr>\n",
       "      <th>2022-12-11</th>\n",
       "      <td>71.90</td>\n",
       "      <td>71.78</td>\n",
       "      <td>72.31</td>\n",
       "      <td>71.65</td>\n",
       "      <td>NaN</td>\n",
       "      <td>0.56%</td>\n",
       "    </tr>\n",
       "    <tr>\n",
       "      <th>2022-12-12</th>\n",
       "      <td>73.74</td>\n",
       "      <td>71.89</td>\n",
       "      <td>73.98</td>\n",
       "      <td>70.25</td>\n",
       "      <td>NaN</td>\n",
       "      <td>2.56%</td>\n",
       "    </tr>\n",
       "    <tr>\n",
       "      <th>2022-12-13</th>\n",
       "      <td>74.00</td>\n",
       "      <td>73.42</td>\n",
       "      <td>74.20</td>\n",
       "      <td>73.31</td>\n",
       "      <td>NaN</td>\n",
       "      <td>+0.76%</td>\n",
       "    </tr>\n",
       "    <tr>\n",
       "      <th>2022-12-14</th>\n",
       "      <td>76.14</td>\n",
       "      <td>75.19</td>\n",
       "      <td>76.49</td>\n",
       "      <td>74.91</td>\n",
       "      <td>NaN</td>\n",
       "      <td>+1.26%</td>\n",
       "    </tr>\n",
       "  </tbody>\n",
       "</table>\n",
       "</div>"
      ],
      "text/plain": [
       "            Price   Open   High    Low Vol. Change %\n",
       "Date                                                \n",
       "2022-12-09  71.50  72.07  72.92  70.11  NaN   -0.78%\n",
       "2022-12-11  71.90  71.78  72.31  71.65  NaN    0.56%\n",
       "2022-12-12  73.74  71.89  73.98  70.25  NaN    2.56%\n",
       "2022-12-13  74.00  73.42  74.20  73.31  NaN   +0.76%\n",
       "2022-12-14  76.14  75.19  76.49  74.91  NaN   +1.26%"
      ]
     },
     "execution_count": 22,
     "metadata": {},
     "output_type": "execute_result"
    }
   ],
   "source": [
    "main_crude = main_crude[:yesterday]\n",
    "main_crude.tail()"
   ]
  },
  {
   "cell_type": "code",
   "execution_count": 23,
   "metadata": {},
   "outputs": [
    {
     "data": {
      "text/plain": [
       "(7383,)"
      ]
     },
     "execution_count": 23,
     "metadata": {},
     "output_type": "execute_result"
    }
   ],
   "source": [
    "# extract close price\n",
    "df = main_crude.reset_index()[\"Price\"]\n",
    "df.shape"
   ]
  },
  {
   "cell_type": "code",
   "execution_count": 24,
   "metadata": {},
   "outputs": [
    {
     "data": {
      "text/plain": [
       "array([[0.28531599],\n",
       "       [0.28591734],\n",
       "       [0.28958014],\n",
       "       ...,\n",
       "       [0.6088454 ],\n",
       "       [0.61026678],\n",
       "       [0.62196589]])"
      ]
     },
     "execution_count": 24,
     "metadata": {},
     "output_type": "execute_result"
    }
   ],
   "source": [
    "# normalize\n",
    "scaler = MinMaxScaler(feature_range=(0,1))\n",
    "df = scaler.fit_transform(np.array(df).reshape(-1,1))\n",
    "\n",
    "df"
   ]
  },
  {
   "attachments": {},
   "cell_type": "markdown",
   "metadata": {},
   "source": [
    "Splitting data for training and testing"
   ]
  },
  {
   "cell_type": "code",
   "execution_count": 25,
   "metadata": {},
   "outputs": [
    {
     "data": {
      "text/plain": [
       "(4798, 2585)"
      ]
     },
     "execution_count": 25,
     "metadata": {},
     "output_type": "execute_result"
    }
   ],
   "source": [
    "train_size = int(len(df)*0.65)\n",
    "test_size = len(df) - train_size\n",
    "train_data, test_data = df[0:train_size,:], df[train_size:len(df),:1]\n",
    "len(train_data), len(test_data)"
   ]
  },
  {
   "attachments": {},
   "cell_type": "markdown",
   "metadata": {},
   "source": [
    "Preprocessing"
   ]
  },
  {
   "cell_type": "code",
   "execution_count": 26,
   "metadata": {},
   "outputs": [],
   "source": [
    "def create_data_matrix(dataset, time_step=1):\n",
    "    dataX, dataY = [], []\n",
    "    for i in range(len(dataset) - time_step-1):\n",
    "        a = dataset[i:(i+time_step), 0]\n",
    "        dataX.append(a)\n",
    "        dataY.append(dataset[i + time_step, 0])\n",
    "    return np.array(dataX), np.array(dataY)"
   ]
  },
  {
   "cell_type": "code",
   "execution_count": 27,
   "metadata": {},
   "outputs": [],
   "source": [
    "time_step = 120\n",
    "X_train, y_train = create_data_matrix(train_data, time_step)\n",
    "X_test, y_valid = create_data_matrix(test_data, time_step)"
   ]
  },
  {
   "cell_type": "code",
   "execution_count": 28,
   "metadata": {},
   "outputs": [
    {
     "name": "stdout",
     "output_type": "stream",
     "text": [
      "(4677, 120)\n",
      "(4677,)\n",
      "(2464, 120)\n",
      "(4677,)\n"
     ]
    },
    {
     "data": {
      "text/plain": [
       "(None, None)"
      ]
     },
     "execution_count": 28,
     "metadata": {},
     "output_type": "execute_result"
    }
   ],
   "source": [
    "print(X_train.shape), print(y_train.shape)\n",
    "print(X_test.shape), print(y_train.shape)"
   ]
  },
  {
   "cell_type": "code",
   "execution_count": 29,
   "metadata": {},
   "outputs": [],
   "source": [
    "X_train = X_train.reshape(X_train.shape[0], X_train.shape[1], 1)\n",
    "X_test = X_test.reshape(X_test.shape[0], X_test.shape[1], 1)"
   ]
  },
  {
   "attachments": {},
   "cell_type": "markdown",
   "metadata": {},
   "source": [
    "Build LSTM Model"
   ]
  },
  {
   "attachments": {},
   "cell_type": "markdown",
   "metadata": {},
   "source": [
    "`In this example, the LSTM layer has 100 units, and the weights of the recurrent connections are regularized using the L2 regularization with a weight of 0.01. The weights are also constrained to have a maximum norm of 1.0.\n",
    "\n",
    "You can adjust these parameters to suit your specific needs and problem. For example, you can try using different regularization methods, such as L1 regularization or a combination of L1 and L2 regularization, and you can experiment with different weight constraints to see what works best for your model.`"
   ]
  },
  {
   "cell_type": "code",
   "execution_count": 30,
   "metadata": {},
   "outputs": [],
   "source": [
    "model = Sequential()\n",
    "model.add(LSTM(100, return_sequences=True, input_shape=(120,1), recurrent_regularizer=l2(0.01), recurrent_constraint=max_norm(1.0)))\n",
    "model.add(LSTM(100, return_sequences=True))\n",
    "model.add(LSTM(100))\n",
    "model.add(Dense(1))\n",
    "model.compile(loss='mean_squared_error', optimizer='adam')"
   ]
  },
  {
   "cell_type": "code",
   "execution_count": 31,
   "metadata": {},
   "outputs": [
    {
     "name": "stdout",
     "output_type": "stream",
     "text": [
      "Model: \"sequential_1\"\n",
      "_________________________________________________________________\n",
      " Layer (type)                Output Shape              Param #   \n",
      "=================================================================\n",
      " lstm_3 (LSTM)               (None, 120, 100)          40800     \n",
      "                                                                 \n",
      " lstm_4 (LSTM)               (None, 120, 100)          80400     \n",
      "                                                                 \n",
      " lstm_5 (LSTM)               (None, 100)               80400     \n",
      "                                                                 \n",
      " dense_1 (Dense)             (None, 1)                 101       \n",
      "                                                                 \n",
      "=================================================================\n",
      "Total params: 201,701\n",
      "Trainable params: 201,701\n",
      "Non-trainable params: 0\n",
      "_________________________________________________________________\n"
     ]
    }
   ],
   "source": [
    "model.summary()"
   ]
  },
  {
   "cell_type": "code",
   "execution_count": 32,
   "metadata": {},
   "outputs": [
    {
     "name": "stdout",
     "output_type": "stream",
     "text": [
      "Epoch 1/100\n",
      "74/74 [==============================] - 51s 557ms/step - loss: 0.0098 - val_loss: 6.8276e-04\n",
      "Epoch 2/100\n",
      "74/74 [==============================] - 57s 772ms/step - loss: 3.8993e-04 - val_loss: 0.0011\n",
      "Epoch 3/100\n",
      "74/74 [==============================] - 56s 758ms/step - loss: 4.0760e-04 - val_loss: 6.2977e-04\n",
      "Epoch 4/100\n",
      "74/74 [==============================] - 51s 691ms/step - loss: 3.5606e-04 - val_loss: 7.8566e-04\n",
      "Epoch 5/100\n",
      "74/74 [==============================] - 46s 624ms/step - loss: 3.3497e-04 - val_loss: 4.6238e-04\n",
      "Epoch 6/100\n",
      "74/74 [==============================] - 41s 558ms/step - loss: 3.6072e-04 - val_loss: 4.5648e-04\n",
      "Epoch 7/100\n",
      "74/74 [==============================] - 37s 496ms/step - loss: 3.1750e-04 - val_loss: 4.9990e-04\n",
      "Epoch 8/100\n",
      "74/74 [==============================] - 36s 483ms/step - loss: 2.9138e-04 - val_loss: 4.8196e-04\n",
      "Epoch 9/100\n",
      "74/74 [==============================] - 39s 526ms/step - loss: 3.0729e-04 - val_loss: 3.8330e-04\n",
      "Epoch 10/100\n",
      "74/74 [==============================] - 38s 518ms/step - loss: 2.6098e-04 - val_loss: 0.0011\n",
      "Epoch 11/100\n",
      "74/74 [==============================] - 37s 496ms/step - loss: 3.2379e-04 - val_loss: 3.4422e-04\n",
      "Epoch 12/100\n",
      "74/74 [==============================] - 35s 469ms/step - loss: 2.4262e-04 - val_loss: 5.4609e-04\n",
      "Epoch 13/100\n",
      "74/74 [==============================] - 35s 470ms/step - loss: 2.6692e-04 - val_loss: 8.1293e-04\n",
      "Epoch 14/100\n",
      "74/74 [==============================] - 37s 495ms/step - loss: 2.7096e-04 - val_loss: 3.8142e-04\n",
      "Epoch 15/100\n",
      "74/74 [==============================] - 35s 479ms/step - loss: 2.1162e-04 - val_loss: 3.0823e-04\n",
      "Epoch 16/100\n",
      "74/74 [==============================] - 35s 472ms/step - loss: 2.1999e-04 - val_loss: 5.2678e-04\n",
      "Epoch 17/100\n",
      "74/74 [==============================] - 35s 469ms/step - loss: 2.3576e-04 - val_loss: 2.9476e-04\n",
      "Epoch 18/100\n",
      "74/74 [==============================] - 34s 463ms/step - loss: 1.8408e-04 - val_loss: 9.6453e-04\n",
      "Epoch 19/100\n",
      "74/74 [==============================] - 34s 463ms/step - loss: 2.1434e-04 - val_loss: 2.8810e-04\n",
      "Epoch 20/100\n",
      "74/74 [==============================] - 35s 478ms/step - loss: 2.0363e-04 - val_loss: 5.1226e-04\n",
      "Epoch 21/100\n",
      "74/74 [==============================] - 34s 462ms/step - loss: 1.7258e-04 - val_loss: 5.0343e-04\n",
      "Epoch 22/100\n",
      "74/74 [==============================] - 35s 474ms/step - loss: 1.8487e-04 - val_loss: 2.5142e-04\n",
      "Epoch 23/100\n",
      "74/74 [==============================] - 34s 463ms/step - loss: 1.7455e-04 - val_loss: 3.4905e-04\n",
      "Epoch 24/100\n",
      "74/74 [==============================] - 34s 454ms/step - loss: 1.4976e-04 - val_loss: 2.6642e-04\n",
      "Epoch 25/100\n",
      "74/74 [==============================] - 33s 448ms/step - loss: 1.7209e-04 - val_loss: 2.3122e-04\n",
      "Epoch 26/100\n",
      "74/74 [==============================] - 33s 453ms/step - loss: 1.6093e-04 - val_loss: 2.2292e-04\n",
      "Epoch 27/100\n",
      "74/74 [==============================] - 33s 453ms/step - loss: 1.3517e-04 - val_loss: 2.5964e-04\n",
      "Epoch 28/100\n",
      "74/74 [==============================] - 33s 450ms/step - loss: 1.4420e-04 - val_loss: 2.0944e-04\n",
      "Epoch 29/100\n",
      "74/74 [==============================] - 33s 447ms/step - loss: 1.3560e-04 - val_loss: 2.7897e-04\n",
      "Epoch 30/100\n",
      "74/74 [==============================] - 33s 448ms/step - loss: 1.1298e-04 - val_loss: 4.0096e-04\n",
      "Epoch 31/100\n",
      "74/74 [==============================] - 33s 449ms/step - loss: 1.1004e-04 - val_loss: 2.0377e-04\n",
      "Epoch 32/100\n",
      "74/74 [==============================] - 36s 488ms/step - loss: 1.2953e-04 - val_loss: 2.4981e-04\n",
      "Epoch 33/100\n",
      "74/74 [==============================] - 34s 463ms/step - loss: 9.8071e-05 - val_loss: 3.3624e-04\n",
      "Epoch 34/100\n",
      "74/74 [==============================] - 34s 456ms/step - loss: 1.2719e-04 - val_loss: 2.4933e-04\n",
      "Epoch 35/100\n",
      "74/74 [==============================] - 33s 452ms/step - loss: 1.0605e-04 - val_loss: 1.7048e-04\n",
      "Epoch 36/100\n",
      "74/74 [==============================] - 34s 456ms/step - loss: 9.4843e-05 - val_loss: 1.9409e-04\n",
      "Epoch 37/100\n",
      "74/74 [==============================] - 33s 450ms/step - loss: 1.0531e-04 - val_loss: 1.5789e-04\n",
      "Epoch 38/100\n",
      "74/74 [==============================] - 33s 448ms/step - loss: 8.7688e-05 - val_loss: 1.5751e-04\n",
      "Epoch 39/100\n",
      "74/74 [==============================] - 33s 445ms/step - loss: 9.2597e-05 - val_loss: 2.2879e-04\n",
      "Epoch 40/100\n",
      "74/74 [==============================] - 33s 449ms/step - loss: 8.5943e-05 - val_loss: 1.5226e-04\n",
      "Epoch 41/100\n",
      "74/74 [==============================] - 33s 446ms/step - loss: 8.7622e-05 - val_loss: 1.6736e-04\n",
      "Epoch 42/100\n",
      "74/74 [==============================] - 32s 439ms/step - loss: 1.0017e-04 - val_loss: 3.7941e-04\n",
      "Epoch 43/100\n",
      "74/74 [==============================] - 33s 453ms/step - loss: 1.1593e-04 - val_loss: 1.3753e-04\n",
      "Epoch 44/100\n",
      "74/74 [==============================] - 36s 494ms/step - loss: 7.5211e-05 - val_loss: 1.4083e-04\n",
      "Epoch 45/100\n",
      "74/74 [==============================] - 35s 476ms/step - loss: 7.7543e-05 - val_loss: 1.3833e-04\n",
      "Epoch 46/100\n",
      "74/74 [==============================] - 33s 446ms/step - loss: 7.7291e-05 - val_loss: 1.2894e-04\n",
      "Epoch 47/100\n",
      "74/74 [==============================] - 33s 452ms/step - loss: 6.9789e-05 - val_loss: 1.7425e-04\n",
      "Epoch 48/100\n",
      "74/74 [==============================] - 33s 453ms/step - loss: 8.5102e-05 - val_loss: 1.4649e-04\n",
      "Epoch 49/100\n",
      "74/74 [==============================] - 33s 450ms/step - loss: 8.2144e-05 - val_loss: 0.0016\n",
      "Epoch 50/100\n",
      "74/74 [==============================] - 33s 450ms/step - loss: 2.0059e-04 - val_loss: 1.6360e-04\n",
      "Epoch 51/100\n",
      "74/74 [==============================] - 32s 439ms/step - loss: 6.2169e-05 - val_loss: 8.4196e-04\n",
      "Epoch 52/100\n",
      "74/74 [==============================] - 33s 444ms/step - loss: 1.0784e-04 - val_loss: 1.4917e-04\n",
      "Epoch 53/100\n",
      "74/74 [==============================] - 33s 449ms/step - loss: 6.9772e-05 - val_loss: 1.2810e-04\n",
      "Epoch 54/100\n",
      "74/74 [==============================] - 34s 457ms/step - loss: 6.4983e-05 - val_loss: 1.6599e-04\n",
      "Epoch 55/100\n",
      "74/74 [==============================] - 33s 449ms/step - loss: 6.8578e-05 - val_loss: 1.3779e-04\n",
      "Epoch 56/100\n",
      "74/74 [==============================] - 34s 455ms/step - loss: 6.5480e-05 - val_loss: 2.1895e-04\n",
      "Epoch 57/100\n",
      "74/74 [==============================] - 34s 454ms/step - loss: 8.0081e-05 - val_loss: 2.4646e-04\n",
      "Epoch 58/100\n",
      "74/74 [==============================] - 33s 453ms/step - loss: 8.8718e-05 - val_loss: 1.5944e-04\n",
      "Epoch 59/100\n",
      "74/74 [==============================] - 33s 453ms/step - loss: 5.8571e-05 - val_loss: 1.4235e-04\n",
      "Epoch 60/100\n",
      "74/74 [==============================] - 34s 460ms/step - loss: 6.2249e-05 - val_loss: 1.3330e-04\n",
      "Epoch 61/100\n",
      "74/74 [==============================] - 34s 455ms/step - loss: 7.4989e-05 - val_loss: 2.8666e-04\n",
      "Epoch 62/100\n",
      "74/74 [==============================] - 33s 451ms/step - loss: 8.8924e-05 - val_loss: 1.4570e-04\n",
      "Epoch 63/100\n",
      "74/74 [==============================] - 33s 453ms/step - loss: 6.7084e-05 - val_loss: 1.6674e-04\n",
      "Epoch 64/100\n",
      "74/74 [==============================] - 33s 453ms/step - loss: 7.4475e-05 - val_loss: 1.2359e-04\n",
      "Epoch 65/100\n",
      "74/74 [==============================] - 33s 449ms/step - loss: 7.9882e-05 - val_loss: 2.3387e-04\n",
      "Epoch 66/100\n",
      "74/74 [==============================] - 33s 450ms/step - loss: 7.0638e-05 - val_loss: 1.6021e-04\n",
      "Epoch 67/100\n",
      "74/74 [==============================] - 34s 454ms/step - loss: 6.1941e-05 - val_loss: 1.2018e-04\n",
      "Epoch 68/100\n",
      "74/74 [==============================] - 33s 450ms/step - loss: 8.4026e-05 - val_loss: 4.7808e-04\n",
      "Epoch 69/100\n",
      "74/74 [==============================] - 33s 449ms/step - loss: 1.0694e-04 - val_loss: 1.5395e-04\n",
      "Epoch 70/100\n",
      "74/74 [==============================] - 34s 454ms/step - loss: 7.0093e-05 - val_loss: 2.1612e-04\n",
      "Epoch 71/100\n",
      "74/74 [==============================] - 33s 453ms/step - loss: 7.0366e-05 - val_loss: 1.5970e-04\n",
      "Epoch 72/100\n",
      "74/74 [==============================] - 34s 456ms/step - loss: 6.3644e-05 - val_loss: 1.3193e-04\n",
      "Epoch 73/100\n",
      "74/74 [==============================] - 34s 465ms/step - loss: 6.2712e-05 - val_loss: 2.2129e-04\n",
      "Epoch 74/100\n",
      "74/74 [==============================] - 33s 452ms/step - loss: 7.0519e-05 - val_loss: 1.7781e-04\n",
      "Epoch 75/100\n",
      "74/74 [==============================] - 34s 457ms/step - loss: 7.0307e-05 - val_loss: 2.1544e-04\n",
      "Epoch 76/100\n",
      "74/74 [==============================] - 34s 460ms/step - loss: 6.8225e-05 - val_loss: 1.4600e-04\n",
      "Epoch 77/100\n",
      "74/74 [==============================] - 33s 453ms/step - loss: 6.9668e-05 - val_loss: 1.7344e-04\n",
      "Epoch 78/100\n",
      "74/74 [==============================] - 33s 451ms/step - loss: 8.1090e-05 - val_loss: 1.7141e-04\n",
      "Epoch 79/100\n",
      "74/74 [==============================] - 33s 451ms/step - loss: 6.7220e-05 - val_loss: 1.2234e-04\n",
      "Epoch 80/100\n",
      "74/74 [==============================] - 33s 449ms/step - loss: 6.1398e-05 - val_loss: 1.3126e-04\n",
      "Epoch 81/100\n",
      "74/74 [==============================] - 33s 453ms/step - loss: 8.5003e-05 - val_loss: 2.0028e-04\n",
      "Epoch 82/100\n",
      "74/74 [==============================] - 33s 446ms/step - loss: 6.8147e-05 - val_loss: 1.4651e-04\n",
      "Epoch 83/100\n",
      "74/74 [==============================] - 33s 452ms/step - loss: 6.4988e-05 - val_loss: 1.2035e-04\n",
      "Epoch 84/100\n",
      "74/74 [==============================] - 34s 456ms/step - loss: 7.0496e-05 - val_loss: 1.7283e-04\n",
      "Epoch 85/100\n",
      "74/74 [==============================] - 33s 453ms/step - loss: 7.3051e-05 - val_loss: 1.2071e-04\n",
      "Epoch 86/100\n",
      "74/74 [==============================] - 34s 459ms/step - loss: 6.6780e-05 - val_loss: 1.2027e-04\n",
      "Epoch 87/100\n",
      "74/74 [==============================] - 33s 443ms/step - loss: 7.5489e-05 - val_loss: 1.2693e-04\n",
      "Epoch 88/100\n",
      "74/74 [==============================] - 33s 453ms/step - loss: 6.5102e-05 - val_loss: 1.9691e-04\n",
      "Epoch 89/100\n",
      "74/74 [==============================] - 34s 456ms/step - loss: 6.2592e-05 - val_loss: 1.2083e-04\n",
      "Epoch 90/100\n",
      "74/74 [==============================] - 33s 452ms/step - loss: 7.4459e-05 - val_loss: 1.5595e-04\n",
      "Epoch 91/100\n",
      "74/74 [==============================] - 33s 447ms/step - loss: 8.8060e-05 - val_loss: 1.4584e-04\n",
      "Epoch 92/100\n",
      "74/74 [==============================] - 33s 444ms/step - loss: 6.3574e-05 - val_loss: 3.7700e-04\n",
      "Epoch 93/100\n",
      "74/74 [==============================] - 33s 447ms/step - loss: 8.5860e-05 - val_loss: 1.3204e-04\n",
      "Epoch 94/100\n",
      "74/74 [==============================] - 33s 453ms/step - loss: 5.5015e-05 - val_loss: 1.7136e-04\n",
      "Epoch 95/100\n",
      "74/74 [==============================] - 33s 447ms/step - loss: 9.5351e-05 - val_loss: 2.4442e-04\n",
      "Epoch 96/100\n",
      "74/74 [==============================] - 34s 456ms/step - loss: 6.4601e-05 - val_loss: 1.6015e-04\n",
      "Epoch 97/100\n",
      "74/74 [==============================] - 33s 453ms/step - loss: 5.9252e-05 - val_loss: 1.3258e-04\n",
      "Epoch 98/100\n",
      "74/74 [==============================] - 33s 450ms/step - loss: 5.8754e-05 - val_loss: 1.8201e-04\n",
      "Epoch 99/100\n",
      "74/74 [==============================] - 33s 449ms/step - loss: 6.2543e-05 - val_loss: 1.5479e-04\n",
      "Epoch 100/100\n",
      "74/74 [==============================] - 33s 453ms/step - loss: 6.1716e-05 - val_loss: 1.6838e-04\n"
     ]
    }
   ],
   "source": [
    "history = model.fit(X_train, y_train, epochs=100, batch_size=64, verbose=1, validation_split=0.2, validation_data=(X_test, y_valid))"
   ]
  },
  {
   "cell_type": "code",
   "execution_count": 33,
   "metadata": {},
   "outputs": [
    {
     "data": {
      "image/png": "[encoded data removed]",
      "text/plain": [
       "<Figure size 640x480 with 1 Axes>"
      ]
     },
     "metadata": {},
     "output_type": "display_data"
    }
   ],
   "source": [
    "# viz loss\n",
    "loss = history.history[\"loss\"]\n",
    "val_loss = history.history[\"val_loss\"]\n",
    "epochs = range(1, len(loss) + 1)\n",
    "\n",
    "# train - validation loss \n",
    "plt.plot(epochs, loss, 'b', label='Training loss')\n",
    "plt.plot(epochs, val_loss, 'r', label='Validation loss')\n",
    "plt.title('Training and Validation loss')\n",
    "plt.legend()\n",
    "plt.savefig('../figures/train-and-val-loss-crude.jpg')\n",
    "plt.show()"
   ]
  },
  {
   "cell_type": "code",
   "execution_count": 34,
   "metadata": {},
   "outputs": [],
   "source": [
    "# save model\n",
    "model.save(\"../models/crude-oil-model.h5\")"
   ]
  },
  {
   "attachments": {},
   "cell_type": "markdown",
   "metadata": {},
   "source": [
    "predict on training - test data"
   ]
  },
  {
   "cell_type": "code",
   "execution_count": 35,
   "metadata": {},
   "outputs": [],
   "source": [
    "# load model\n",
    "use_model = load_model(\"../models/crude-oil-model.h5\")"
   ]
  },
  {
   "cell_type": "code",
   "execution_count": 36,
   "metadata": {},
   "outputs": [
    {
     "name": "stdout",
     "output_type": "stream",
     "text": [
      "147/147 [==============================] - 10s 64ms/step\n",
      "77/77 [==============================] - 5s 64ms/step\n"
     ]
    }
   ],
   "source": [
    "# predict and check performance metrics\n",
    "train_predict=use_model.predict(X_train)\n",
    "test_predict=use_model.predict(X_test)"
   ]
  },
  {
   "cell_type": "code",
   "execution_count": 37,
   "metadata": {},
   "outputs": [
    {
     "name": "stdout",
     "output_type": "stream",
     "text": [
      "train rmse:  0.009690349240488342\n",
      "test rmse:  0.012976228643150437\n"
     ]
    }
   ],
   "source": [
    "train_rmse = math.sqrt(mean_squared_error(y_train, train_predict))\n",
    "test_rmse = math.sqrt(mean_squared_error(y_valid, test_predict))\n",
    "\n",
    "print(\"train rmse: \", train_rmse)\n",
    "print(\"test rmse: \", test_rmse)"
   ]
  },
  {
   "cell_type": "code",
   "execution_count": 38,
   "metadata": {},
   "outputs": [],
   "source": [
    "# transformback to original form\n",
    "train_predict=scaler.inverse_transform(train_predict)\n",
    "test_predict=scaler.inverse_transform(test_predict)"
   ]
  },
  {
   "cell_type": "code",
   "execution_count": 39,
   "metadata": {},
   "outputs": [
    {
     "data": {
      "image/png": "[encoded data removed]",
      "text/plain": [
       "<Figure size 1200x600 with 1 Axes>"
      ]
     },
     "metadata": {},
     "output_type": "display_data"
    }
   ],
   "source": [
    "# plotting\n",
    "plt.gcf().set_size_inches(12, 6, forward=True)\n",
    "currentFig = plt.gcf()\n",
    "\n",
    "\n",
    "trainPredictPlot = np.empty_like(df)\n",
    "trainPredictPlot[:,:] = np.nan\n",
    "trainPredictPlot[time_step:len(train_predict)+time_step, :] = train_predict\n",
    "\n",
    "testPredictPlot = np.empty_like(df)\n",
    "testPredictPlot[:,:] = np.nan\n",
    "testPredictPlot[len(train_predict)+time_step*2 + 1: len(df)-1, :] = test_predict\n",
    "\n",
    "plt.plot(scaler.inverse_transform(df), label=\"Actual Price\")\n",
    "plt.plot(trainPredictPlot, label=\"Predict Price - Train Dataset\", color=\"lightgreen\")\n",
    "plt.plot(testPredictPlot, label=\"Predict Price - Test Dataset\", color=\"r\", linestyle=\"dashed\")\n",
    "\n",
    "# styling\n",
    "currentFig.set_facecolor('white')\n",
    "plt.legend()\n",
    "plt.ylabel('Price in USD', fontsize=12)\n",
    "plt.title('Crude Oil Actual Price vs Prediction Price', fontsize=18)\n",
    "\n",
    "plt.savefig('../figures/lstm-performance-prediction-results.jpg')\n",
    "plt.show()"
   ]
  }
 ],
 "metadata": {
  "kernelspec": {
   "display_name": "newBunkerEnv",
   "language": "python",
   "name": "python3"
  },
  "language_info": {
   "codemirror_mode": {
    "name": "ipython",
    "version": 3
   },
   "file_extension": ".py",
   "mimetype": "text/x-python",
   "name": "python",
   "nbconvert_exporter": "python",
   "pygments_lexer": "ipython3",
   "version": "3.8.13"
  },
  "orig_nbformat": 4,
  "vscode": {
   "interpreter": {
    "hash": "a2dbe1e4839fe11c9048cbdbd90c728e60f05b5b523b5ddaa34a8ac54f3c18f1"
   }
  }
 },
 "nbformat": 4,
 "nbformat_minor": 2
}
