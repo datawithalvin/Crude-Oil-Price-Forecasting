{
 "cells": [
  {
   "attachments": {},
   "cell_type": "markdown",
   "metadata": {},
   "source": [
    "# Build Crude Oil Price Forecasting Models with LSTM"
   ]
  },
  {
   "cell_type": "code",
   "execution_count": 1,
   "metadata": {},
   "outputs": [],
   "source": [
    "# import standard libraries\n",
    "import numpy as np\n",
    "import pandas as pd\n",
    "import glob\n",
    "import math\n",
    "import time\n",
    "import os\n",
    "\n",
    "import warnings\n",
    "warnings.filterwarnings(\"ignore\")\n",
    "\n",
    "import datetime\n",
    "from datetime import date, timedelta\n",
    "\n",
    "\n",
    "## import statistical library\n",
    "from scipy.stats import spearmanr\n",
    "import scipy.stats as stats\n",
    "from scipy.stats import lognorm\n",
    "\n",
    "\n",
    "# import viz libraries\n",
    "import seaborn as sns\n",
    "import plotly.express as px\n",
    "import plotly.graph_objects as go\n",
    "import matplotlib.pyplot as plt\n",
    "import matplotlib.dates as mdates\n",
    "%matplotlib inline\n",
    "\n",
    "\n",
    "# import model libraries\n",
    "from sklearn.preprocessing import MinMaxScaler\n",
    "from sklearn.metrics import mean_squared_error\n",
    "from tensorflow.keras.models import Sequential\n",
    "from tensorflow.keras.layers import Dense, LSTM\n",
    "from keras.layers import Dropout\n",
    "from tensorflow.keras.optimizers import Adam\n",
    "from keras.callbacks import EarlyStopping\n",
    "from keras.models import load_model\n",
    "from keras.utils.vis_utils import plot_model\n",
    "from keras.regularizers import l2\n",
    "from keras.constraints import max_norm"
   ]
  },
  {
   "cell_type": "code",
   "execution_count": 2,
   "metadata": {},
   "outputs": [],
   "source": [
    "import os\n",
    "os.environ[\"PATH\"] += os.pathsep + 'C:/Program Files/Graphviz/bin/'"
   ]
  },
  {
   "cell_type": "code",
   "execution_count": 3,
   "metadata": {},
   "outputs": [],
   "source": [
    "today_date = date.today()\n",
    "days = pd.date_range(start=today_date, periods=14)\n",
    "yesterday = today_date - timedelta(days=1)\n",
    "yesterday = yesterday.strftime(\"%Y-%m-%d\")\n",
    "today_date = today_date.strftime(\"%Y-%m-%d\")"
   ]
  },
  {
   "attachments": {},
   "cell_type": "markdown",
   "metadata": {},
   "source": [
    "## Buat LSTM untuk Crude Oil Price"
   ]
  },
  {
   "cell_type": "code",
   "execution_count": 4,
   "metadata": {},
   "outputs": [],
   "source": [
    "# set file path\n",
    "crude = \"../historical-dataset/Crude Oil Prices.csv\"\n",
    "\n",
    "# load dataset\n",
    "main_crude = pd.read_csv(crude, parse_dates=[\"Date\"], index_col=[\"Date\"]).sort_index(ascending=True)"
   ]
  },
  {
   "cell_type": "code",
   "execution_count": 5,
   "metadata": {},
   "outputs": [
    {
     "data": {
      "text/html": [
       "<div>\n",
       "<style scoped>\n",
       "    .dataframe tbody tr th:only-of-type {\n",
       "        vertical-align: middle;\n",
       "    }\n",
       "\n",
       "    .dataframe tbody tr th {\n",
       "        vertical-align: top;\n",
       "    }\n",
       "\n",
       "    .dataframe thead th {\n",
       "        text-align: right;\n",
       "    }\n",
       "</style>\n",
       "<table border=\"1\" class=\"dataframe\">\n",
       "  <thead>\n",
       "    <tr style=\"text-align: right;\">\n",
       "      <th></th>\n",
       "      <th>Price</th>\n",
       "      <th>Open</th>\n",
       "      <th>High</th>\n",
       "      <th>Low</th>\n",
       "      <th>Vol.</th>\n",
       "      <th>Change %</th>\n",
       "    </tr>\n",
       "    <tr>\n",
       "      <th>Date</th>\n",
       "      <th></th>\n",
       "      <th></th>\n",
       "      <th></th>\n",
       "      <th></th>\n",
       "      <th></th>\n",
       "      <th></th>\n",
       "    </tr>\n",
       "  </thead>\n",
       "  <tbody>\n",
       "    <tr>\n",
       "      <th>1994-01-03</th>\n",
       "      <td>14.56</td>\n",
       "      <td>14.10</td>\n",
       "      <td>14.65</td>\n",
       "      <td>14.11</td>\n",
       "      <td>37.38K</td>\n",
       "      <td>2.75%</td>\n",
       "    </tr>\n",
       "    <tr>\n",
       "      <th>1994-01-04</th>\n",
       "      <td>14.67</td>\n",
       "      <td>14.55</td>\n",
       "      <td>14.72</td>\n",
       "      <td>14.35</td>\n",
       "      <td>37.75K</td>\n",
       "      <td>0.76%</td>\n",
       "    </tr>\n",
       "    <tr>\n",
       "      <th>1994-01-05</th>\n",
       "      <td>15.34</td>\n",
       "      <td>14.50</td>\n",
       "      <td>15.42</td>\n",
       "      <td>14.65</td>\n",
       "      <td>69.69K</td>\n",
       "      <td>4.57%</td>\n",
       "    </tr>\n",
       "    <tr>\n",
       "      <th>1994-01-06</th>\n",
       "      <td>15.42</td>\n",
       "      <td>15.34</td>\n",
       "      <td>15.61</td>\n",
       "      <td>15.05</td>\n",
       "      <td>51.95K</td>\n",
       "      <td>0.52%</td>\n",
       "    </tr>\n",
       "    <tr>\n",
       "      <th>1994-01-07</th>\n",
       "      <td>15.32</td>\n",
       "      <td>15.40</td>\n",
       "      <td>15.46</td>\n",
       "      <td>15.23</td>\n",
       "      <td>31.71K</td>\n",
       "      <td>-0.65%</td>\n",
       "    </tr>\n",
       "  </tbody>\n",
       "</table>\n",
       "</div>"
      ],
      "text/plain": [
       "            Price   Open   High    Low    Vol. Change %\n",
       "Date                                                   \n",
       "1994-01-03  14.56  14.10  14.65  14.11  37.38K    2.75%\n",
       "1994-01-04  14.67  14.55  14.72  14.35  37.75K    0.76%\n",
       "1994-01-05  15.34  14.50  15.42  14.65  69.69K    4.57%\n",
       "1994-01-06  15.42  15.34  15.61  15.05  51.95K    0.52%\n",
       "1994-01-07  15.32  15.40  15.46  15.23  31.71K   -0.65%"
      ]
     },
     "execution_count": 5,
     "metadata": {},
     "output_type": "execute_result"
    }
   ],
   "source": [
    "# display first five rows\n",
    "main_crude.head()"
   ]
  },
  {
   "cell_type": "code",
   "execution_count": 6,
   "metadata": {},
   "outputs": [
    {
     "data": {
      "text/html": [
       "<div>\n",
       "<style scoped>\n",
       "    .dataframe tbody tr th:only-of-type {\n",
       "        vertical-align: middle;\n",
       "    }\n",
       "\n",
       "    .dataframe tbody tr th {\n",
       "        vertical-align: top;\n",
       "    }\n",
       "\n",
       "    .dataframe thead th {\n",
       "        text-align: right;\n",
       "    }\n",
       "</style>\n",
       "<table border=\"1\" class=\"dataframe\">\n",
       "  <thead>\n",
       "    <tr style=\"text-align: right;\">\n",
       "      <th></th>\n",
       "      <th>Price</th>\n",
       "      <th>Open</th>\n",
       "      <th>High</th>\n",
       "      <th>Low</th>\n",
       "      <th>Vol.</th>\n",
       "      <th>Change %</th>\n",
       "    </tr>\n",
       "    <tr>\n",
       "      <th>Date</th>\n",
       "      <th></th>\n",
       "      <th></th>\n",
       "      <th></th>\n",
       "      <th></th>\n",
       "      <th></th>\n",
       "      <th></th>\n",
       "    </tr>\n",
       "  </thead>\n",
       "  <tbody>\n",
       "    <tr>\n",
       "      <th>2022-12-09</th>\n",
       "      <td>71.50</td>\n",
       "      <td>72.07</td>\n",
       "      <td>72.92</td>\n",
       "      <td>70.11</td>\n",
       "      <td>NaN</td>\n",
       "      <td>-0.78%</td>\n",
       "    </tr>\n",
       "    <tr>\n",
       "      <th>2022-12-11</th>\n",
       "      <td>71.90</td>\n",
       "      <td>71.78</td>\n",
       "      <td>72.31</td>\n",
       "      <td>71.65</td>\n",
       "      <td>NaN</td>\n",
       "      <td>0.56%</td>\n",
       "    </tr>\n",
       "    <tr>\n",
       "      <th>2022-12-12</th>\n",
       "      <td>73.74</td>\n",
       "      <td>71.89</td>\n",
       "      <td>73.98</td>\n",
       "      <td>70.25</td>\n",
       "      <td>NaN</td>\n",
       "      <td>2.56%</td>\n",
       "    </tr>\n",
       "    <tr>\n",
       "      <th>2022-12-13</th>\n",
       "      <td>74.00</td>\n",
       "      <td>73.42</td>\n",
       "      <td>74.20</td>\n",
       "      <td>73.31</td>\n",
       "      <td>NaN</td>\n",
       "      <td>+0.76%</td>\n",
       "    </tr>\n",
       "    <tr>\n",
       "      <th>2022-12-14</th>\n",
       "      <td>76.14</td>\n",
       "      <td>75.19</td>\n",
       "      <td>76.49</td>\n",
       "      <td>74.91</td>\n",
       "      <td>NaN</td>\n",
       "      <td>+1.26%</td>\n",
       "    </tr>\n",
       "  </tbody>\n",
       "</table>\n",
       "</div>"
      ],
      "text/plain": [
       "            Price   Open   High    Low Vol. Change %\n",
       "Date                                                \n",
       "2022-12-09  71.50  72.07  72.92  70.11  NaN   -0.78%\n",
       "2022-12-11  71.90  71.78  72.31  71.65  NaN    0.56%\n",
       "2022-12-12  73.74  71.89  73.98  70.25  NaN    2.56%\n",
       "2022-12-13  74.00  73.42  74.20  73.31  NaN   +0.76%\n",
       "2022-12-14  76.14  75.19  76.49  74.91  NaN   +1.26%"
      ]
     },
     "execution_count": 6,
     "metadata": {},
     "output_type": "execute_result"
    }
   ],
   "source": [
    "main_crude = main_crude[:yesterday]\n",
    "main_crude.tail()"
   ]
  },
  {
   "cell_type": "code",
   "execution_count": 7,
   "metadata": {},
   "outputs": [
    {
     "data": {
      "text/plain": [
       "(7383,)"
      ]
     },
     "execution_count": 7,
     "metadata": {},
     "output_type": "execute_result"
    }
   ],
   "source": [
    "# extract close price\n",
    "df = main_crude.reset_index()[\"Price\"]\n",
    "df.shape"
   ]
  },
  {
   "cell_type": "code",
   "execution_count": 8,
   "metadata": {},
   "outputs": [
    {
     "data": {
      "text/plain": [
       "array([[0.28531599],\n",
       "       [0.28591734],\n",
       "       [0.28958014],\n",
       "       ...,\n",
       "       [0.6088454 ],\n",
       "       [0.61026678],\n",
       "       [0.62196589]])"
      ]
     },
     "execution_count": 8,
     "metadata": {},
     "output_type": "execute_result"
    }
   ],
   "source": [
    "# normalize\n",
    "scaler = MinMaxScaler(feature_range=(0,1))\n",
    "df = scaler.fit_transform(np.array(df).reshape(-1,1))\n",
    "\n",
    "df"
   ]
  },
  {
   "attachments": {},
   "cell_type": "markdown",
   "metadata": {},
   "source": [
    "Splitting data for training and testing"
   ]
  },
  {
   "cell_type": "code",
   "execution_count": 9,
   "metadata": {},
   "outputs": [
    {
     "data": {
      "text/plain": [
       "(4798, 2585)"
      ]
     },
     "execution_count": 9,
     "metadata": {},
     "output_type": "execute_result"
    }
   ],
   "source": [
    "train_size = int(len(df)*0.65)\n",
    "test_size = len(df) - train_size\n",
    "train_data, test_data = df[0:train_size,:], df[train_size:len(df),:1]\n",
    "len(train_data), len(test_data)"
   ]
  },
  {
   "attachments": {},
   "cell_type": "markdown",
   "metadata": {},
   "source": [
    "Preprocessing"
   ]
  },
  {
   "cell_type": "code",
   "execution_count": 10,
   "metadata": {},
   "outputs": [],
   "source": [
    "def create_data_matrix(dataset, time_step=1):\n",
    "    dataX, dataY = [], []\n",
    "    for i in range(len(dataset) - time_step-1):\n",
    "        a = dataset[i:(i+time_step), 0]\n",
    "        dataX.append(a)\n",
    "        dataY.append(dataset[i + time_step, 0])\n",
    "    return np.array(dataX), np.array(dataY)"
   ]
  },
  {
   "cell_type": "code",
   "execution_count": 11,
   "metadata": {},
   "outputs": [],
   "source": [
    "time_step = 120\n",
    "X_train, y_train = create_data_matrix(train_data, time_step)\n",
    "X_test, y_valid = create_data_matrix(test_data, time_step)"
   ]
  },
  {
   "cell_type": "code",
   "execution_count": 12,
   "metadata": {},
   "outputs": [
    {
     "name": "stdout",
     "output_type": "stream",
     "text": [
      "(4677, 120)\n",
      "(4677,)\n",
      "(2464, 120)\n",
      "(4677,)\n"
     ]
    },
    {
     "data": {
      "text/plain": [
       "(None, None)"
      ]
     },
     "execution_count": 12,
     "metadata": {},
     "output_type": "execute_result"
    }
   ],
   "source": [
    "print(X_train.shape), print(y_train.shape)\n",
    "print(X_test.shape), print(y_train.shape)"
   ]
  },
  {
   "cell_type": "code",
   "execution_count": 13,
   "metadata": {},
   "outputs": [],
   "source": [
    "X_train = X_train.reshape(X_train.shape[0], X_train.shape[1], 1)\n",
    "X_test = X_test.reshape(X_test.shape[0], X_test.shape[1], 1)"
   ]
  },
  {
   "attachments": {},
   "cell_type": "markdown",
   "metadata": {},
   "source": [
    "Build LSTM Model"
   ]
  },
  {
   "attachments": {},
   "cell_type": "markdown",
   "metadata": {},
   "source": [
    "`In this example, the LSTM layer has 100 units, and the weights of the recurrent connections are regularized using the L2 regularization with a weight of 0.01. The weights are also constrained to have a maximum norm of 1.0.\n",
    "\n",
    "You can adjust these parameters to suit your specific needs and problem. For example, you can try using different regularization methods, such as L1 regularization or a combination of L1 and L2 regularization, and you can experiment with different weight constraints to see what works best for your model.`"
   ]
  },
  {
   "cell_type": "code",
   "execution_count": 14,
   "metadata": {},
   "outputs": [],
   "source": [
    "model = Sequential()\n",
    "model.add(LSTM(100, return_sequences=True, input_shape=(120,1), recurrent_regularizer=l2(0.01), recurrent_constraint=max_norm(1.0)))\n",
    "model.add(LSTM(100, return_sequences=True))\n",
    "model.add(LSTM(100))\n",
    "model.add(Dense(1))\n",
    "model.compile(loss='mean_squared_error', optimizer='adam')"
   ]
  },
  {
   "cell_type": "code",
   "execution_count": 15,
   "metadata": {},
   "outputs": [
    {
     "name": "stdout",
     "output_type": "stream",
     "text": [
      "Model: \"sequential\"\n",
      "_________________________________________________________________\n",
      " Layer (type)                Output Shape              Param #   \n",
      "=================================================================\n",
      " lstm (LSTM)                 (None, 120, 100)          40800     \n",
      "                                                                 \n",
      " lstm_1 (LSTM)               (None, 120, 100)          80400     \n",
      "                                                                 \n",
      " lstm_2 (LSTM)               (None, 100)               80400     \n",
      "                                                                 \n",
      " dense (Dense)               (None, 1)                 101       \n",
      "                                                                 \n",
      "=================================================================\n",
      "Total params: 201,701\n",
      "Trainable params: 201,701\n",
      "Non-trainable params: 0\n",
      "_________________________________________________________________\n"
     ]
    }
   ],
   "source": [
    "model.summary()"
   ]
  },
  {
   "cell_type": "code",
   "execution_count": 16,
   "metadata": {},
   "outputs": [
    {
     "name": "stdout",
     "output_type": "stream",
     "text": [
      "Epoch 1/100\n",
      "74/74 [==============================] - 41s 496ms/step - loss: 0.4249 - val_loss: 0.1083\n",
      "Epoch 2/100\n",
      "74/74 [==============================] - 36s 490ms/step - loss: 0.0452 - val_loss: 0.0129\n",
      "Epoch 3/100\n",
      "74/74 [==============================] - 38s 508ms/step - loss: 0.0057 - val_loss: 0.0021\n",
      "Epoch 4/100\n",
      "74/74 [==============================] - 35s 473ms/step - loss: 0.0010 - val_loss: 8.6712e-04\n",
      "Epoch 5/100\n",
      "74/74 [==============================] - 35s 468ms/step - loss: 4.3543e-04 - val_loss: 0.0011\n",
      "Epoch 6/100\n",
      "74/74 [==============================] - 37s 494ms/step - loss: 3.9901e-04 - val_loss: 4.9075e-04\n",
      "Epoch 7/100\n",
      "74/74 [==============================] - 35s 474ms/step - loss: 3.2384e-04 - val_loss: 7.7124e-04\n",
      "Epoch 8/100\n",
      "74/74 [==============================] - 35s 469ms/step - loss: 3.1343e-04 - val_loss: 3.8393e-04\n",
      "Epoch 9/100\n",
      "74/74 [==============================] - 36s 486ms/step - loss: 3.0879e-04 - val_loss: 5.7600e-04\n",
      "Epoch 10/100\n",
      "74/74 [==============================] - 36s 490ms/step - loss: 2.7479e-04 - val_loss: 3.5348e-04\n",
      "Epoch 11/100\n",
      "74/74 [==============================] - 36s 482ms/step - loss: 2.5459e-04 - val_loss: 9.0422e-04\n",
      "Epoch 12/100\n",
      "74/74 [==============================] - 39s 533ms/step - loss: 3.2025e-04 - val_loss: 4.5987e-04\n",
      "Epoch 13/100\n",
      "74/74 [==============================] - 42s 563ms/step - loss: 2.3280e-04 - val_loss: 3.3430e-04\n",
      "Epoch 14/100\n",
      "74/74 [==============================] - 37s 502ms/step - loss: 2.4892e-04 - val_loss: 4.3205e-04\n",
      "Epoch 15/100\n",
      "74/74 [==============================] - 37s 505ms/step - loss: 2.2673e-04 - val_loss: 3.6583e-04\n",
      "Epoch 16/100\n",
      "74/74 [==============================] - 37s 500ms/step - loss: 2.6144e-04 - val_loss: 3.1131e-04\n",
      "Epoch 17/100\n",
      "74/74 [==============================] - 39s 530ms/step - loss: 2.3885e-04 - val_loss: 2.9904e-04\n",
      "Epoch 18/100\n",
      "74/74 [==============================] - 40s 542ms/step - loss: 1.9266e-04 - val_loss: 3.6445e-04\n",
      "Epoch 19/100\n",
      "74/74 [==============================] - 37s 498ms/step - loss: 1.9627e-04 - val_loss: 2.8316e-04\n",
      "Epoch 20/100\n",
      "74/74 [==============================] - 38s 515ms/step - loss: 1.7797e-04 - val_loss: 2.7976e-04\n",
      "Epoch 21/100\n",
      "74/74 [==============================] - 37s 503ms/step - loss: 2.1027e-04 - val_loss: 3.2505e-04\n",
      "Epoch 22/100\n",
      "74/74 [==============================] - 37s 507ms/step - loss: 1.7412e-04 - val_loss: 4.6109e-04\n",
      "Epoch 23/100\n",
      "74/74 [==============================] - 38s 511ms/step - loss: 1.6786e-04 - val_loss: 3.5437e-04\n",
      "Epoch 24/100\n",
      "74/74 [==============================] - 37s 502ms/step - loss: 1.6549e-04 - val_loss: 2.5540e-04\n",
      "Epoch 25/100\n",
      "74/74 [==============================] - 37s 505ms/step - loss: 1.5817e-04 - val_loss: 2.7758e-04\n",
      "Epoch 26/100\n",
      "74/74 [==============================] - 37s 495ms/step - loss: 1.4767e-04 - val_loss: 3.4049e-04\n",
      "Epoch 27/100\n",
      "74/74 [==============================] - 37s 499ms/step - loss: 1.7236e-04 - val_loss: 3.5242e-04\n",
      "Epoch 28/100\n",
      "74/74 [==============================] - 37s 506ms/step - loss: 1.8509e-04 - val_loss: 2.4740e-04\n",
      "Epoch 29/100\n",
      "74/74 [==============================] - 37s 501ms/step - loss: 1.3589e-04 - val_loss: 2.2416e-04\n",
      "Epoch 30/100\n",
      "74/74 [==============================] - 36s 493ms/step - loss: 1.3356e-04 - val_loss: 2.2096e-04\n",
      "Epoch 31/100\n",
      "74/74 [==============================] - 34s 454ms/step - loss: 1.3857e-04 - val_loss: 2.5172e-04\n",
      "Epoch 32/100\n",
      "74/74 [==============================] - 34s 463ms/step - loss: 1.3561e-04 - val_loss: 2.0904e-04\n",
      "Epoch 33/100\n",
      "74/74 [==============================] - 35s 478ms/step - loss: 1.2220e-04 - val_loss: 2.0697e-04\n",
      "Epoch 34/100\n",
      "74/74 [==============================] - 35s 470ms/step - loss: 1.7782e-04 - val_loss: 3.8637e-04\n",
      "Epoch 35/100\n",
      "74/74 [==============================] - 34s 463ms/step - loss: 1.5085e-04 - val_loss: 2.2611e-04\n",
      "Epoch 36/100\n",
      "74/74 [==============================] - 34s 464ms/step - loss: 1.1069e-04 - val_loss: 1.9014e-04\n",
      "Epoch 37/100\n",
      "74/74 [==============================] - 34s 459ms/step - loss: 1.2079e-04 - val_loss: 1.9288e-04\n",
      "Epoch 38/100\n",
      "74/74 [==============================] - 35s 469ms/step - loss: 1.1302e-04 - val_loss: 7.7502e-04\n",
      "Epoch 39/100\n",
      "74/74 [==============================] - 35s 479ms/step - loss: 1.6960e-04 - val_loss: 2.8946e-04\n",
      "Epoch 40/100\n",
      "74/74 [==============================] - 34s 464ms/step - loss: 1.1786e-04 - val_loss: 2.2464e-04\n",
      "Epoch 41/100\n",
      "74/74 [==============================] - 34s 465ms/step - loss: 1.1747e-04 - val_loss: 2.0505e-04\n",
      "Epoch 42/100\n",
      "74/74 [==============================] - 34s 462ms/step - loss: 1.0456e-04 - val_loss: 1.9058e-04\n",
      "Epoch 43/100\n",
      "74/74 [==============================] - 34s 463ms/step - loss: 1.2376e-04 - val_loss: 4.8044e-04\n",
      "Epoch 44/100\n",
      "74/74 [==============================] - 36s 487ms/step - loss: 1.3282e-04 - val_loss: 2.0654e-04\n",
      "Epoch 45/100\n",
      "74/74 [==============================] - 39s 529ms/step - loss: 1.2712e-04 - val_loss: 3.4784e-04\n",
      "Epoch 46/100\n",
      "74/74 [==============================] - 36s 485ms/step - loss: 1.0570e-04 - val_loss: 1.6403e-04\n",
      "Epoch 47/100\n",
      "74/74 [==============================] - 36s 491ms/step - loss: 8.9017e-05 - val_loss: 1.5709e-04\n",
      "Epoch 48/100\n",
      "74/74 [==============================] - 39s 533ms/step - loss: 1.0948e-04 - val_loss: 1.7380e-04\n",
      "Epoch 49/100\n",
      "74/74 [==============================] - 39s 522ms/step - loss: 1.0042e-04 - val_loss: 2.0992e-04\n",
      "Epoch 50/100\n",
      "74/74 [==============================] - 37s 497ms/step - loss: 9.0623e-05 - val_loss: 4.3901e-04\n",
      "Epoch 51/100\n",
      "74/74 [==============================] - 38s 516ms/step - loss: 1.1097e-04 - val_loss: 2.1033e-04\n",
      "Epoch 52/100\n",
      "74/74 [==============================] - 37s 501ms/step - loss: 1.0054e-04 - val_loss: 2.3957e-04\n",
      "Epoch 53/100\n",
      "74/74 [==============================] - 37s 504ms/step - loss: 1.1239e-04 - val_loss: 1.9009e-04\n",
      "Epoch 54/100\n",
      "74/74 [==============================] - 37s 502ms/step - loss: 8.7844e-05 - val_loss: 2.0207e-04\n",
      "Epoch 55/100\n",
      "74/74 [==============================] - 38s 510ms/step - loss: 9.7562e-05 - val_loss: 5.2112e-04\n",
      "Epoch 56/100\n",
      "74/74 [==============================] - 38s 516ms/step - loss: 1.3101e-04 - val_loss: 1.5799e-04\n",
      "Epoch 57/100\n",
      "74/74 [==============================] - 39s 522ms/step - loss: 8.5937e-05 - val_loss: 1.7671e-04\n",
      "Epoch 58/100\n",
      "74/74 [==============================] - 38s 511ms/step - loss: 9.5176e-05 - val_loss: 2.5877e-04\n",
      "Epoch 59/100\n",
      "74/74 [==============================] - 38s 519ms/step - loss: 1.1114e-04 - val_loss: 1.5406e-04\n",
      "Epoch 60/100\n",
      "74/74 [==============================] - 38s 511ms/step - loss: 8.7174e-05 - val_loss: 1.4839e-04\n",
      "Epoch 61/100\n",
      "74/74 [==============================] - 38s 509ms/step - loss: 7.1518e-05 - val_loss: 1.3491e-04\n",
      "Epoch 62/100\n",
      "74/74 [==============================] - 38s 516ms/step - loss: 1.0149e-04 - val_loss: 2.2294e-04\n",
      "Epoch 63/100\n",
      "74/74 [==============================] - 38s 508ms/step - loss: 9.6313e-05 - val_loss: 1.8876e-04\n",
      "Epoch 64/100\n",
      "74/74 [==============================] - 45s 612ms/step - loss: 7.1518e-05 - val_loss: 8.6599e-04\n",
      "Epoch 65/100\n",
      "74/74 [==============================] - 49s 659ms/step - loss: 1.2975e-04 - val_loss: 3.2573e-04\n",
      "Epoch 66/100\n",
      "74/74 [==============================] - 39s 529ms/step - loss: 9.4820e-05 - val_loss: 1.4998e-04\n",
      "Epoch 67/100\n",
      "74/74 [==============================] - 37s 506ms/step - loss: 6.8201e-05 - val_loss: 4.3543e-04\n",
      "Epoch 68/100\n",
      "74/74 [==============================] - 37s 499ms/step - loss: 1.0978e-04 - val_loss: 2.1840e-04\n",
      "Epoch 69/100\n",
      "74/74 [==============================] - 37s 500ms/step - loss: 7.6509e-05 - val_loss: 3.1484e-04\n",
      "Epoch 70/100\n",
      "74/74 [==============================] - 37s 498ms/step - loss: 9.8528e-05 - val_loss: 1.5919e-04\n",
      "Epoch 71/100\n",
      "74/74 [==============================] - 37s 499ms/step - loss: 8.0753e-05 - val_loss: 2.1513e-04\n",
      "Epoch 72/100\n",
      "74/74 [==============================] - 38s 518ms/step - loss: 8.3237e-05 - val_loss: 1.5260e-04\n",
      "Epoch 73/100\n",
      "74/74 [==============================] - 38s 517ms/step - loss: 8.2610e-05 - val_loss: 2.4374e-04\n",
      "Epoch 74/100\n",
      "74/74 [==============================] - 39s 527ms/step - loss: 7.9933e-05 - val_loss: 1.2931e-04\n",
      "Epoch 75/100\n",
      "74/74 [==============================] - 39s 532ms/step - loss: 7.0886e-05 - val_loss: 1.2705e-04\n",
      "Epoch 76/100\n",
      "74/74 [==============================] - 41s 561ms/step - loss: 8.0756e-05 - val_loss: 1.3534e-04\n",
      "Epoch 77/100\n",
      "74/74 [==============================] - 42s 564ms/step - loss: 6.4841e-05 - val_loss: 1.3068e-04\n",
      "Epoch 78/100\n",
      "74/74 [==============================] - 38s 514ms/step - loss: 7.2263e-05 - val_loss: 1.4011e-04\n",
      "Epoch 79/100\n",
      "74/74 [==============================] - 38s 512ms/step - loss: 7.6023e-05 - val_loss: 2.7570e-04\n",
      "Epoch 80/100\n",
      "74/74 [==============================] - 38s 514ms/step - loss: 7.0317e-05 - val_loss: 1.2995e-04\n",
      "Epoch 81/100\n",
      "74/74 [==============================] - 38s 518ms/step - loss: 9.1263e-05 - val_loss: 1.6449e-04\n",
      "Epoch 82/100\n",
      "74/74 [==============================] - 38s 517ms/step - loss: 7.4160e-05 - val_loss: 5.6933e-04\n",
      "Epoch 83/100\n",
      "74/74 [==============================] - 38s 515ms/step - loss: 1.0250e-04 - val_loss: 1.2202e-04\n",
      "Epoch 84/100\n",
      "74/74 [==============================] - 40s 536ms/step - loss: 7.9730e-05 - val_loss: 8.9818e-04\n",
      "Epoch 85/100\n",
      "74/74 [==============================] - 39s 529ms/step - loss: 1.3443e-04 - val_loss: 1.2956e-04\n",
      "Epoch 86/100\n",
      "74/74 [==============================] - 39s 532ms/step - loss: 8.3820e-05 - val_loss: 4.7786e-04\n",
      "Epoch 87/100\n",
      "74/74 [==============================] - 40s 539ms/step - loss: 9.7974e-05 - val_loss: 1.7627e-04\n",
      "Epoch 88/100\n",
      "74/74 [==============================] - 38s 517ms/step - loss: 9.2509e-05 - val_loss: 2.9075e-04\n",
      "Epoch 89/100\n",
      "74/74 [==============================] - 38s 518ms/step - loss: 6.9705e-05 - val_loss: 1.2604e-04\n",
      "Epoch 90/100\n",
      "74/74 [==============================] - 40s 534ms/step - loss: 7.8853e-05 - val_loss: 1.1989e-04\n",
      "Epoch 91/100\n",
      "74/74 [==============================] - 39s 521ms/step - loss: 6.3749e-05 - val_loss: 1.2204e-04\n",
      "Epoch 92/100\n",
      "74/74 [==============================] - 39s 525ms/step - loss: 6.3556e-05 - val_loss: 3.7248e-04\n",
      "Epoch 93/100\n",
      "74/74 [==============================] - 38s 518ms/step - loss: 8.6822e-05 - val_loss: 1.3344e-04\n",
      "Epoch 94/100\n",
      "74/74 [==============================] - 37s 503ms/step - loss: 7.6459e-05 - val_loss: 1.2439e-04\n",
      "Epoch 95/100\n",
      "74/74 [==============================] - 38s 517ms/step - loss: 9.1962e-05 - val_loss: 1.2813e-04\n",
      "Epoch 96/100\n",
      "74/74 [==============================] - 38s 510ms/step - loss: 6.3749e-05 - val_loss: 1.7157e-04\n",
      "Epoch 97/100\n",
      "74/74 [==============================] - 38s 512ms/step - loss: 7.0858e-05 - val_loss: 1.1993e-04\n",
      "Epoch 98/100\n",
      "74/74 [==============================] - 38s 513ms/step - loss: 8.7584e-05 - val_loss: 1.1995e-04\n",
      "Epoch 99/100\n",
      "74/74 [==============================] - 38s 515ms/step - loss: 6.7019e-05 - val_loss: 1.2821e-04\n",
      "Epoch 100/100\n",
      "74/74 [==============================] - 38s 511ms/step - loss: 6.5736e-05 - val_loss: 2.4996e-04\n"
     ]
    }
   ],
   "source": [
    "history = model.fit(X_train, y_train, epochs=100, batch_size=64, verbose=1, validation_split=0.2, validation_data=(X_test, y_valid))"
   ]
  },
  {
   "cell_type": "code",
   "execution_count": 17,
   "metadata": {},
   "outputs": [
    {
     "data": {
      "image/png": "[encoded data removed]",
      "text/plain": [
       "<Figure size 640x480 with 1 Axes>"
      ]
     },
     "metadata": {},
     "output_type": "display_data"
    }
   ],
   "source": [
    "# viz loss\n",
    "loss = history.history[\"loss\"]\n",
    "val_loss = history.history[\"val_loss\"]\n",
    "epochs = range(1, len(loss) + 1)\n",
    "\n",
    "# train - validation loss \n",
    "plt.plot(epochs, loss, 'b', label='Training loss')\n",
    "plt.plot(epochs, val_loss, 'r', label='Validation loss')\n",
    "plt.title('Training and Validation loss')\n",
    "plt.legend()\n",
    "plt.savefig('../figures/train-and-val-loss-crude.jpg')\n",
    "plt.show()"
   ]
  },
  {
   "cell_type": "code",
   "execution_count": 18,
   "metadata": {},
   "outputs": [],
   "source": [
    "# save model\n",
    "model.save(\"../models/crude-oil-model.h5\")"
   ]
  },
  {
   "attachments": {},
   "cell_type": "markdown",
   "metadata": {},
   "source": [
    "predict on training - test data"
   ]
  },
  {
   "cell_type": "code",
   "execution_count": 19,
   "metadata": {},
   "outputs": [],
   "source": [
    "# load model\n",
    "use_model = load_model(\"../models/crude-oil-model.h5\")"
   ]
  },
  {
   "cell_type": "code",
   "execution_count": 20,
   "metadata": {},
   "outputs": [
    {
     "name": "stdout",
     "output_type": "stream",
     "text": [
      "147/147 [==============================] - 11s 64ms/step\n",
      "77/77 [==============================] - 5s 63ms/step\n"
     ]
    }
   ],
   "source": [
    "# predict and check performance metrics\n",
    "train_predict=use_model.predict(X_train)\n",
    "test_predict=use_model.predict(X_test)"
   ]
  },
  {
   "cell_type": "code",
   "execution_count": 21,
   "metadata": {},
   "outputs": [
    {
     "name": "stdout",
     "output_type": "stream",
     "text": [
      "train rmse:  0.012496271578859987\n",
      "test rmse:  0.015742866291182777\n"
     ]
    }
   ],
   "source": [
    "train_rmse = math.sqrt(mean_squared_error(y_train, train_predict))\n",
    "test_rmse = math.sqrt(mean_squared_error(y_valid, test_predict))\n",
    "\n",
    "print(\"train rmse: \", train_rmse)\n",
    "print(\"test rmse: \", test_rmse)"
   ]
  },
  {
   "cell_type": "code",
   "execution_count": 22,
   "metadata": {},
   "outputs": [],
   "source": [
    "# transformback to original form\n",
    "train_predict=scaler.inverse_transform(train_predict)\n",
    "test_predict=scaler.inverse_transform(test_predict)"
   ]
  },
  {
   "cell_type": "code",
   "execution_count": 23,
   "metadata": {},
   "outputs": [
    {
     "data": {
      "image/png": "[encoded data removed]",
      "text/plain": [
       "<Figure size 1200x600 with 1 Axes>"
      ]
     },
     "metadata": {},
     "output_type": "display_data"
    }
   ],
   "source": [
    "# plotting\n",
    "plt.gcf().set_size_inches(12, 6, forward=True)\n",
    "currentFig = plt.gcf()\n",
    "\n",
    "\n",
    "trainPredictPlot = np.empty_like(df)\n",
    "trainPredictPlot[:,:] = np.nan\n",
    "trainPredictPlot[time_step:len(train_predict)+time_step, :] = train_predict\n",
    "\n",
    "testPredictPlot = np.empty_like(df)\n",
    "testPredictPlot[:,:] = np.nan\n",
    "testPredictPlot[len(train_predict)+time_step*2 + 1: len(df)-1, :] = test_predict\n",
    "\n",
    "plt.plot(scaler.inverse_transform(df), label=\"Actual Price\")\n",
    "plt.plot(trainPredictPlot, label=\"Predict Price - Train Dataset\", color=\"lightgreen\")\n",
    "plt.plot(testPredictPlot, label=\"Predict Price - Test Dataset\", color=\"r\", linestyle=\"dashed\")\n",
    "\n",
    "# styling\n",
    "currentFig.set_facecolor('white')\n",
    "plt.legend()\n",
    "plt.ylabel('Price in USD', fontsize=12)\n",
    "plt.title('Crude Oil Actual Price vs Prediction Price', fontsize=18)\n",
    "\n",
    "plt.savefig('../figures/lstm-performance-prediction-results.jpg')\n",
    "plt.show()"
   ]
  }
 ],
 "metadata": {
  "kernelspec": {
   "display_name": "newBunkerEnv",
   "language": "python",
   "name": "python3"
  },
  "language_info": {
   "codemirror_mode": {
    "name": "ipython",
    "version": 3
   },
   "file_extension": ".py",
   "mimetype": "text/x-python",
   "name": "python",
   "nbconvert_exporter": "python",
   "pygments_lexer": "ipython3",
   "version": "3.8.13"
  },
  "orig_nbformat": 4,
  "vscode": {
   "interpreter": {
    "hash": "a2dbe1e4839fe11c9048cbdbd90c728e60f05b5b523b5ddaa34a8ac54f3c18f1"
   }
  }
 },
 "nbformat": 4,
 "nbformat_minor": 2
}
