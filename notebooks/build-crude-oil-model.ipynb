{
 "cells": [
  {
   "attachments": {},
   "cell_type": "markdown",
   "metadata": {},
   "source": [
    "# Build Crude Oil Price Forecasting Models with LSTM"
   ]
  },
  {
   "cell_type": "code",
   "execution_count": 1,
   "metadata": {},
   "outputs": [],
   "source": [
    "# import standard libraries\n",
    "import numpy as np\n",
    "import pandas as pd\n",
    "import glob\n",
    "import math\n",
    "import time\n",
    "import os\n",
    "\n",
    "import warnings\n",
    "warnings.filterwarnings(\"ignore\")\n",
    "\n",
    "import datetime\n",
    "from datetime import date, timedelta\n",
    "\n",
    "\n",
    "## import statistical library\n",
    "from scipy.stats import spearmanr\n",
    "import scipy.stats as stats\n",
    "from scipy.stats import lognorm\n",
    "\n",
    "\n",
    "# import viz libraries\n",
    "import seaborn as sns\n",
    "import plotly.express as px\n",
    "import plotly.graph_objects as go\n",
    "import matplotlib.pyplot as plt\n",
    "import matplotlib.dates as mdates\n",
    "%matplotlib inline\n",
    "\n",
    "\n",
    "# import model libraries\n",
    "from sklearn.preprocessing import MinMaxScaler\n",
    "from sklearn.metrics import mean_squared_error\n",
    "from tensorflow.keras.models import Sequential\n",
    "from tensorflow.keras.layers import Dense, LSTM\n",
    "from keras.layers import Dropout\n",
    "from tensorflow.keras.optimizers import Adam\n",
    "from keras.callbacks import EarlyStopping\n",
    "from keras.models import load_model\n",
    "from keras.utils.vis_utils import plot_model"
   ]
  },
  {
   "cell_type": "code",
   "execution_count": 2,
   "metadata": {},
   "outputs": [],
   "source": [
    "import os\n",
    "os.environ[\"PATH\"] += os.pathsep + 'C:/Program Files/Graphviz/bin/'"
   ]
  },
  {
   "cell_type": "code",
   "execution_count": 3,
   "metadata": {},
   "outputs": [],
   "source": [
    "today_date = date.today()\n",
    "days = pd.date_range(start=today_date, periods=14)\n",
    "yesterday = today_date - timedelta(days=1)\n",
    "yesterday = yesterday.strftime(\"%Y-%m-%d\")\n",
    "today_date = today_date.strftime(\"%Y-%m-%d\")"
   ]
  },
  {
   "attachments": {},
   "cell_type": "markdown",
   "metadata": {},
   "source": [
    "## Buat LSTM untuk Crude Oil Price"
   ]
  },
  {
   "cell_type": "code",
   "execution_count": 4,
   "metadata": {},
   "outputs": [],
   "source": [
    "# set file path\n",
    "crude = \"../historical-datasets/Crude Oil Prices.csv\"\n",
    "\n",
    "# load dataset\n",
    "main_crude = pd.read_csv(crude, parse_dates=[\"Date\"], index_col=[\"Date\"]).sort_index(ascending=True)"
   ]
  },
  {
   "cell_type": "code",
   "execution_count": 5,
   "metadata": {},
   "outputs": [
    {
     "data": {
      "text/html": [
       "<div>\n",
       "<style scoped>\n",
       "    .dataframe tbody tr th:only-of-type {\n",
       "        vertical-align: middle;\n",
       "    }\n",
       "\n",
       "    .dataframe tbody tr th {\n",
       "        vertical-align: top;\n",
       "    }\n",
       "\n",
       "    .dataframe thead th {\n",
       "        text-align: right;\n",
       "    }\n",
       "</style>\n",
       "<table border=\"1\" class=\"dataframe\">\n",
       "  <thead>\n",
       "    <tr style=\"text-align: right;\">\n",
       "      <th></th>\n",
       "      <th>Price</th>\n",
       "      <th>Open</th>\n",
       "      <th>High</th>\n",
       "      <th>Low</th>\n",
       "      <th>Vol.</th>\n",
       "      <th>Change %</th>\n",
       "    </tr>\n",
       "    <tr>\n",
       "      <th>Date</th>\n",
       "      <th></th>\n",
       "      <th></th>\n",
       "      <th></th>\n",
       "      <th></th>\n",
       "      <th></th>\n",
       "      <th></th>\n",
       "    </tr>\n",
       "  </thead>\n",
       "  <tbody>\n",
       "    <tr>\n",
       "      <th>1994-01-03</th>\n",
       "      <td>14.56</td>\n",
       "      <td>14.10</td>\n",
       "      <td>14.65</td>\n",
       "      <td>14.11</td>\n",
       "      <td>37.38K</td>\n",
       "      <td>2.75%</td>\n",
       "    </tr>\n",
       "    <tr>\n",
       "      <th>1994-01-04</th>\n",
       "      <td>14.67</td>\n",
       "      <td>14.55</td>\n",
       "      <td>14.72</td>\n",
       "      <td>14.35</td>\n",
       "      <td>37.75K</td>\n",
       "      <td>0.76%</td>\n",
       "    </tr>\n",
       "    <tr>\n",
       "      <th>1994-01-05</th>\n",
       "      <td>15.34</td>\n",
       "      <td>14.50</td>\n",
       "      <td>15.42</td>\n",
       "      <td>14.65</td>\n",
       "      <td>69.69K</td>\n",
       "      <td>4.57%</td>\n",
       "    </tr>\n",
       "    <tr>\n",
       "      <th>1994-01-06</th>\n",
       "      <td>15.42</td>\n",
       "      <td>15.34</td>\n",
       "      <td>15.61</td>\n",
       "      <td>15.05</td>\n",
       "      <td>51.95K</td>\n",
       "      <td>0.52%</td>\n",
       "    </tr>\n",
       "    <tr>\n",
       "      <th>1994-01-07</th>\n",
       "      <td>15.32</td>\n",
       "      <td>15.40</td>\n",
       "      <td>15.46</td>\n",
       "      <td>15.23</td>\n",
       "      <td>31.71K</td>\n",
       "      <td>-0.65%</td>\n",
       "    </tr>\n",
       "  </tbody>\n",
       "</table>\n",
       "</div>"
      ],
      "text/plain": [
       "            Price   Open   High    Low    Vol. Change %\n",
       "Date                                                   \n",
       "1994-01-03  14.56  14.10  14.65  14.11  37.38K    2.75%\n",
       "1994-01-04  14.67  14.55  14.72  14.35  37.75K    0.76%\n",
       "1994-01-05  15.34  14.50  15.42  14.65  69.69K    4.57%\n",
       "1994-01-06  15.42  15.34  15.61  15.05  51.95K    0.52%\n",
       "1994-01-07  15.32  15.40  15.46  15.23  31.71K   -0.65%"
      ]
     },
     "execution_count": 5,
     "metadata": {},
     "output_type": "execute_result"
    }
   ],
   "source": [
    "# display first five rows\n",
    "main_crude.head()"
   ]
  },
  {
   "cell_type": "code",
   "execution_count": 6,
   "metadata": {},
   "outputs": [
    {
     "data": {
      "text/html": [
       "<div>\n",
       "<style scoped>\n",
       "    .dataframe tbody tr th:only-of-type {\n",
       "        vertical-align: middle;\n",
       "    }\n",
       "\n",
       "    .dataframe tbody tr th {\n",
       "        vertical-align: top;\n",
       "    }\n",
       "\n",
       "    .dataframe thead th {\n",
       "        text-align: right;\n",
       "    }\n",
       "</style>\n",
       "<table border=\"1\" class=\"dataframe\">\n",
       "  <thead>\n",
       "    <tr style=\"text-align: right;\">\n",
       "      <th></th>\n",
       "      <th>Price</th>\n",
       "      <th>Open</th>\n",
       "      <th>High</th>\n",
       "      <th>Low</th>\n",
       "      <th>Vol.</th>\n",
       "      <th>Change %</th>\n",
       "    </tr>\n",
       "    <tr>\n",
       "      <th>Date</th>\n",
       "      <th></th>\n",
       "      <th></th>\n",
       "      <th></th>\n",
       "      <th></th>\n",
       "      <th></th>\n",
       "      <th></th>\n",
       "    </tr>\n",
       "  </thead>\n",
       "  <tbody>\n",
       "    <tr>\n",
       "      <th>2022-12-07</th>\n",
       "      <td>72.58</td>\n",
       "      <td>74.47</td>\n",
       "      <td>75.36</td>\n",
       "      <td>71.75</td>\n",
       "      <td>NaN</td>\n",
       "      <td>-2.54%</td>\n",
       "    </tr>\n",
       "    <tr>\n",
       "      <th>2022-12-08</th>\n",
       "      <td>72.06</td>\n",
       "      <td>72.57</td>\n",
       "      <td>75.39</td>\n",
       "      <td>71.14</td>\n",
       "      <td>NaN</td>\n",
       "      <td>-0.72%</td>\n",
       "    </tr>\n",
       "    <tr>\n",
       "      <th>2022-12-09</th>\n",
       "      <td>71.50</td>\n",
       "      <td>72.07</td>\n",
       "      <td>72.92</td>\n",
       "      <td>70.11</td>\n",
       "      <td>NaN</td>\n",
       "      <td>-0.78%</td>\n",
       "    </tr>\n",
       "    <tr>\n",
       "      <th>2022-12-11</th>\n",
       "      <td>71.90</td>\n",
       "      <td>71.78</td>\n",
       "      <td>72.31</td>\n",
       "      <td>71.65</td>\n",
       "      <td>NaN</td>\n",
       "      <td>0.56%</td>\n",
       "    </tr>\n",
       "    <tr>\n",
       "      <th>2022-12-12</th>\n",
       "      <td>73.74</td>\n",
       "      <td>71.89</td>\n",
       "      <td>73.98</td>\n",
       "      <td>70.25</td>\n",
       "      <td>NaN</td>\n",
       "      <td>2.56%</td>\n",
       "    </tr>\n",
       "  </tbody>\n",
       "</table>\n",
       "</div>"
      ],
      "text/plain": [
       "            Price   Open   High    Low Vol. Change %\n",
       "Date                                                \n",
       "2022-12-07  72.58  74.47  75.36  71.75  NaN   -2.54%\n",
       "2022-12-08  72.06  72.57  75.39  71.14  NaN   -0.72%\n",
       "2022-12-09  71.50  72.07  72.92  70.11  NaN   -0.78%\n",
       "2022-12-11  71.90  71.78  72.31  71.65  NaN    0.56%\n",
       "2022-12-12  73.74  71.89  73.98  70.25  NaN    2.56%"
      ]
     },
     "execution_count": 6,
     "metadata": {},
     "output_type": "execute_result"
    }
   ],
   "source": [
    "main_crude = main_crude[:yesterday]\n",
    "main_crude.tail()"
   ]
  },
  {
   "cell_type": "code",
   "execution_count": 7,
   "metadata": {},
   "outputs": [
    {
     "data": {
      "text/plain": [
       "(7381,)"
      ]
     },
     "execution_count": 7,
     "metadata": {},
     "output_type": "execute_result"
    }
   ],
   "source": [
    "# extract close price\n",
    "df = main_crude.reset_index()[\"Price\"]\n",
    "df.shape"
   ]
  },
  {
   "cell_type": "code",
   "execution_count": 8,
   "metadata": {},
   "outputs": [
    {
     "data": {
      "text/plain": [
       "array([[0.28531599],\n",
       "       [0.28591734],\n",
       "       [0.28958014],\n",
       "       ...,\n",
       "       [0.59659961],\n",
       "       [0.59878635],\n",
       "       [0.6088454 ]])"
      ]
     },
     "execution_count": 8,
     "metadata": {},
     "output_type": "execute_result"
    }
   ],
   "source": [
    "# normalize\n",
    "scaler = MinMaxScaler(feature_range=(0,1))\n",
    "df = scaler.fit_transform(np.array(df).reshape(-1,1))\n",
    "\n",
    "df"
   ]
  },
  {
   "attachments": {},
   "cell_type": "markdown",
   "metadata": {},
   "source": [
    "Splitting data for training and testing"
   ]
  },
  {
   "cell_type": "code",
   "execution_count": 9,
   "metadata": {},
   "outputs": [
    {
     "data": {
      "text/plain": [
       "(4797, 2584)"
      ]
     },
     "execution_count": 9,
     "metadata": {},
     "output_type": "execute_result"
    }
   ],
   "source": [
    "train_size = int(len(df)*0.65)\n",
    "test_size = len(df) - train_size\n",
    "train_data, test_data = df[0:train_size,:], df[train_size:len(df),:1]\n",
    "len(train_data), len(test_data)"
   ]
  },
  {
   "attachments": {},
   "cell_type": "markdown",
   "metadata": {},
   "source": [
    "Preprocessing"
   ]
  },
  {
   "cell_type": "code",
   "execution_count": 10,
   "metadata": {},
   "outputs": [],
   "source": [
    "def create_data_matrix(dataset, time_step=1):\n",
    "    dataX, dataY = [], []\n",
    "    for i in range(len(dataset) - time_step-1):\n",
    "        a = dataset[i:(i+time_step), 0]\n",
    "        dataX.append(a)\n",
    "        dataY.append(dataset[i + time_step, 0])\n",
    "    return np.array(dataX), np.array(dataY)"
   ]
  },
  {
   "cell_type": "code",
   "execution_count": 11,
   "metadata": {},
   "outputs": [],
   "source": [
    "time_step = 40\n",
    "X_train, y_train = create_data_matrix(train_data, time_step)\n",
    "X_test, y_valid = create_data_matrix(test_data, time_step)"
   ]
  },
  {
   "cell_type": "code",
   "execution_count": 12,
   "metadata": {},
   "outputs": [
    {
     "name": "stdout",
     "output_type": "stream",
     "text": [
      "(4756, 40)\n",
      "(4756,)\n",
      "(2543, 40)\n",
      "(4756,)\n"
     ]
    },
    {
     "data": {
      "text/plain": [
       "(None, None)"
      ]
     },
     "execution_count": 12,
     "metadata": {},
     "output_type": "execute_result"
    }
   ],
   "source": [
    "print(X_train.shape), print(y_train.shape)\n",
    "print(X_test.shape), print(y_train.shape)"
   ]
  },
  {
   "cell_type": "code",
   "execution_count": 13,
   "metadata": {},
   "outputs": [],
   "source": [
    "X_train = X_train.reshape(X_train.shape[0], X_train.shape[1], 1)\n",
    "X_test = X_test.reshape(X_test.shape[0], X_test.shape[1], 1)"
   ]
  },
  {
   "attachments": {},
   "cell_type": "markdown",
   "metadata": {},
   "source": [
    "Build LSTM Model"
   ]
  },
  {
   "cell_type": "code",
   "execution_count": 14,
   "metadata": {},
   "outputs": [],
   "source": [
    "model = Sequential()\n",
    "model.add(LSTM(50, return_sequences=True, input_shape=(40,1)))\n",
    "model.add(LSTM(50, return_sequences=True))\n",
    "model.add(LSTM(50))\n",
    "model.add(Dense(1))\n",
    "model.compile(loss='mean_squared_error', optimizer='adam')"
   ]
  },
  {
   "cell_type": "code",
   "execution_count": 15,
   "metadata": {},
   "outputs": [
    {
     "name": "stdout",
     "output_type": "stream",
     "text": [
      "Model: \"sequential\"\n",
      "_________________________________________________________________\n",
      " Layer (type)                Output Shape              Param #   \n",
      "=================================================================\n",
      " lstm (LSTM)                 (None, 40, 50)            10400     \n",
      "                                                                 \n",
      " lstm_1 (LSTM)               (None, 40, 50)            20200     \n",
      "                                                                 \n",
      " lstm_2 (LSTM)               (None, 50)                20200     \n",
      "                                                                 \n",
      " dense (Dense)               (None, 1)                 51        \n",
      "                                                                 \n",
      "=================================================================\n",
      "Total params: 50,851\n",
      "Trainable params: 50,851\n",
      "Non-trainable params: 0\n",
      "_________________________________________________________________\n"
     ]
    }
   ],
   "source": [
    "model.summary()"
   ]
  },
  {
   "cell_type": "code",
   "execution_count": 16,
   "metadata": {},
   "outputs": [
    {
     "name": "stdout",
     "output_type": "stream",
     "text": [
      "Epoch 1/100\n",
      "75/75 [==============================] - 12s 88ms/step - loss: 0.0165 - val_loss: 6.5689e-04\n",
      "Epoch 2/100\n",
      "75/75 [==============================] - 5s 69ms/step - loss: 3.9974e-04 - val_loss: 6.3544e-04\n",
      "Epoch 3/100\n",
      "75/75 [==============================] - 5s 70ms/step - loss: 3.9771e-04 - val_loss: 5.6422e-04\n",
      "Epoch 4/100\n",
      "75/75 [==============================] - 5s 72ms/step - loss: 3.7630e-04 - val_loss: 5.4258e-04\n",
      "Epoch 5/100\n",
      "75/75 [==============================] - 5s 72ms/step - loss: 3.4855e-04 - val_loss: 5.2517e-04\n",
      "Epoch 6/100\n",
      "75/75 [==============================] - 5s 73ms/step - loss: 3.1495e-04 - val_loss: 4.9186e-04\n",
      "Epoch 7/100\n",
      "75/75 [==============================] - 6s 74ms/step - loss: 3.0909e-04 - val_loss: 5.5362e-04\n",
      "Epoch 8/100\n",
      "75/75 [==============================] - 5s 73ms/step - loss: 2.7327e-04 - val_loss: 4.0517e-04\n",
      "Epoch 9/100\n",
      "75/75 [==============================] - 6s 76ms/step - loss: 2.7699e-04 - val_loss: 4.0956e-04\n",
      "Epoch 10/100\n",
      "75/75 [==============================] - 6s 75ms/step - loss: 2.6514e-04 - val_loss: 6.1592e-04\n",
      "Epoch 11/100\n",
      "75/75 [==============================] - 6s 76ms/step - loss: 2.7316e-04 - val_loss: 4.1183e-04\n",
      "Epoch 12/100\n",
      "75/75 [==============================] - 6s 76ms/step - loss: 2.4717e-04 - val_loss: 3.8285e-04\n",
      "Epoch 13/100\n",
      "75/75 [==============================] - 6s 77ms/step - loss: 2.4523e-04 - val_loss: 3.5036e-04\n",
      "Epoch 14/100\n",
      "75/75 [==============================] - 6s 76ms/step - loss: 2.5094e-04 - val_loss: 5.6591e-04\n",
      "Epoch 15/100\n",
      "75/75 [==============================] - 6s 77ms/step - loss: 2.3967e-04 - val_loss: 3.4892e-04\n",
      "Epoch 16/100\n",
      "75/75 [==============================] - 6s 79ms/step - loss: 2.0629e-04 - val_loss: 3.2305e-04\n",
      "Epoch 17/100\n",
      "75/75 [==============================] - 6s 77ms/step - loss: 1.9384e-04 - val_loss: 3.0636e-04\n",
      "Epoch 18/100\n",
      "75/75 [==============================] - 6s 78ms/step - loss: 2.0153e-04 - val_loss: 2.9914e-04\n",
      "Epoch 19/100\n",
      "75/75 [==============================] - 6s 78ms/step - loss: 2.1102e-04 - val_loss: 2.9129e-04\n",
      "Epoch 20/100\n",
      "75/75 [==============================] - 6s 77ms/step - loss: 2.0099e-04 - val_loss: 3.1684e-04\n",
      "Epoch 21/100\n",
      "75/75 [==============================] - 6s 77ms/step - loss: 1.6576e-04 - val_loss: 2.8167e-04\n",
      "Epoch 22/100\n",
      "75/75 [==============================] - 6s 79ms/step - loss: 1.9498e-04 - val_loss: 2.6989e-04\n",
      "Epoch 23/100\n",
      "75/75 [==============================] - 6s 79ms/step - loss: 1.9271e-04 - val_loss: 4.1235e-04\n",
      "Epoch 24/100\n",
      "75/75 [==============================] - 6s 79ms/step - loss: 1.8170e-04 - val_loss: 3.2466e-04\n",
      "Epoch 25/100\n",
      "75/75 [==============================] - 6s 81ms/step - loss: 1.7710e-04 - val_loss: 2.8937e-04\n",
      "Epoch 26/100\n",
      "75/75 [==============================] - 6s 79ms/step - loss: 1.5820e-04 - val_loss: 2.6964e-04\n",
      "Epoch 27/100\n",
      "75/75 [==============================] - 6s 78ms/step - loss: 1.5127e-04 - val_loss: 3.7538e-04\n",
      "Epoch 28/100\n",
      "75/75 [==============================] - 6s 79ms/step - loss: 1.6171e-04 - val_loss: 2.4398e-04\n",
      "Epoch 29/100\n",
      "75/75 [==============================] - 6s 81ms/step - loss: 1.4562e-04 - val_loss: 2.5504e-04\n",
      "Epoch 30/100\n",
      "75/75 [==============================] - 6s 79ms/step - loss: 1.4257e-04 - val_loss: 2.2609e-04\n",
      "Epoch 31/100\n",
      "75/75 [==============================] - 6s 80ms/step - loss: 1.2486e-04 - val_loss: 2.1760e-04\n",
      "Epoch 32/100\n",
      "75/75 [==============================] - 6s 80ms/step - loss: 1.3229e-04 - val_loss: 2.6801e-04\n",
      "Epoch 33/100\n",
      "75/75 [==============================] - 6s 80ms/step - loss: 1.3238e-04 - val_loss: 2.5536e-04\n",
      "Epoch 34/100\n",
      "75/75 [==============================] - 6s 81ms/step - loss: 1.2974e-04 - val_loss: 2.2368e-04\n",
      "Epoch 35/100\n",
      "75/75 [==============================] - 6s 80ms/step - loss: 1.2034e-04 - val_loss: 2.0159e-04\n",
      "Epoch 36/100\n",
      "75/75 [==============================] - 6s 81ms/step - loss: 1.1137e-04 - val_loss: 1.9672e-04\n",
      "Epoch 37/100\n",
      "75/75 [==============================] - 6s 81ms/step - loss: 1.1624e-04 - val_loss: 2.1300e-04\n",
      "Epoch 38/100\n",
      "75/75 [==============================] - 6s 81ms/step - loss: 1.2001e-04 - val_loss: 2.3963e-04\n",
      "Epoch 39/100\n",
      "75/75 [==============================] - 6s 82ms/step - loss: 1.5451e-04 - val_loss: 2.2719e-04\n",
      "Epoch 40/100\n",
      "75/75 [==============================] - 6s 80ms/step - loss: 1.2800e-04 - val_loss: 3.1050e-04\n",
      "Epoch 41/100\n",
      "75/75 [==============================] - 6s 84ms/step - loss: 1.1074e-04 - val_loss: 3.5821e-04\n",
      "Epoch 42/100\n",
      "75/75 [==============================] - 6s 83ms/step - loss: 1.2493e-04 - val_loss: 2.8301e-04\n",
      "Epoch 43/100\n",
      "75/75 [==============================] - 6s 81ms/step - loss: 1.4051e-04 - val_loss: 1.7931e-04\n",
      "Epoch 44/100\n",
      "75/75 [==============================] - 7s 87ms/step - loss: 9.6639e-05 - val_loss: 1.9665e-04\n",
      "Epoch 45/100\n",
      "75/75 [==============================] - 6s 85ms/step - loss: 1.2513e-04 - val_loss: 2.1144e-04\n",
      "Epoch 46/100\n",
      "75/75 [==============================] - 6s 84ms/step - loss: 1.0124e-04 - val_loss: 1.9274e-04\n",
      "Epoch 47/100\n",
      "75/75 [==============================] - 6s 84ms/step - loss: 9.6491e-05 - val_loss: 1.9248e-04\n",
      "Epoch 48/100\n",
      "75/75 [==============================] - 6s 83ms/step - loss: 9.8082e-05 - val_loss: 2.1627e-04\n",
      "Epoch 49/100\n",
      "75/75 [==============================] - 6s 84ms/step - loss: 1.1052e-04 - val_loss: 1.7626e-04\n",
      "Epoch 50/100\n",
      "75/75 [==============================] - 6s 82ms/step - loss: 1.3070e-04 - val_loss: 2.7365e-04\n",
      "Epoch 51/100\n",
      "75/75 [==============================] - 6s 82ms/step - loss: 1.0340e-04 - val_loss: 1.6314e-04\n",
      "Epoch 52/100\n",
      "75/75 [==============================] - 6s 83ms/step - loss: 1.0494e-04 - val_loss: 1.6995e-04\n",
      "Epoch 53/100\n",
      "75/75 [==============================] - 6s 83ms/step - loss: 9.1653e-05 - val_loss: 1.5671e-04\n",
      "Epoch 54/100\n",
      "75/75 [==============================] - 6s 83ms/step - loss: 1.0369e-04 - val_loss: 1.6407e-04\n",
      "Epoch 55/100\n",
      "75/75 [==============================] - 6s 84ms/step - loss: 9.0642e-05 - val_loss: 2.5898e-04\n",
      "Epoch 56/100\n",
      "75/75 [==============================] - 6s 83ms/step - loss: 1.0100e-04 - val_loss: 1.6610e-04\n",
      "Epoch 57/100\n",
      "75/75 [==============================] - 6s 85ms/step - loss: 9.1755e-05 - val_loss: 1.8195e-04\n",
      "Epoch 58/100\n",
      "75/75 [==============================] - 6s 83ms/step - loss: 1.0361e-04 - val_loss: 1.5105e-04\n",
      "Epoch 59/100\n",
      "75/75 [==============================] - 6s 86ms/step - loss: 1.0099e-04 - val_loss: 1.5659e-04\n",
      "Epoch 60/100\n",
      "75/75 [==============================] - 6s 83ms/step - loss: 9.5618e-05 - val_loss: 1.4837e-04\n",
      "Epoch 61/100\n",
      "75/75 [==============================] - 6s 82ms/step - loss: 8.1085e-05 - val_loss: 1.4855e-04\n",
      "Epoch 62/100\n",
      "75/75 [==============================] - 6s 83ms/step - loss: 9.4611e-05 - val_loss: 2.2659e-04\n",
      "Epoch 63/100\n",
      "75/75 [==============================] - 6s 84ms/step - loss: 8.8539e-05 - val_loss: 1.6768e-04\n",
      "Epoch 64/100\n",
      "75/75 [==============================] - 6s 82ms/step - loss: 7.8192e-05 - val_loss: 1.6383e-04\n",
      "Epoch 65/100\n",
      "75/75 [==============================] - 6s 83ms/step - loss: 8.7865e-05 - val_loss: 1.4414e-04\n",
      "Epoch 66/100\n",
      "75/75 [==============================] - 6s 85ms/step - loss: 8.5255e-05 - val_loss: 1.6282e-04\n",
      "Epoch 67/100\n",
      "75/75 [==============================] - 6s 82ms/step - loss: 9.4968e-05 - val_loss: 1.4008e-04\n",
      "Epoch 68/100\n",
      "75/75 [==============================] - 6s 84ms/step - loss: 8.0729e-05 - val_loss: 1.5425e-04\n",
      "Epoch 69/100\n",
      "75/75 [==============================] - 6s 84ms/step - loss: 7.8164e-05 - val_loss: 1.3649e-04\n",
      "Epoch 70/100\n",
      "75/75 [==============================] - 6s 84ms/step - loss: 8.1234e-05 - val_loss: 1.6611e-04\n",
      "Epoch 71/100\n",
      "75/75 [==============================] - 6s 85ms/step - loss: 7.9918e-05 - val_loss: 2.9737e-04\n",
      "Epoch 72/100\n",
      "75/75 [==============================] - 6s 85ms/step - loss: 9.6903e-05 - val_loss: 1.3535e-04\n",
      "Epoch 73/100\n",
      "75/75 [==============================] - 6s 85ms/step - loss: 7.9192e-05 - val_loss: 2.3785e-04\n",
      "Epoch 74/100\n",
      "75/75 [==============================] - 6s 85ms/step - loss: 8.5021e-05 - val_loss: 2.3292e-04\n",
      "Epoch 75/100\n",
      "75/75 [==============================] - 6s 83ms/step - loss: 7.4541e-05 - val_loss: 2.1584e-04\n",
      "Epoch 76/100\n",
      "75/75 [==============================] - 6s 83ms/step - loss: 7.7598e-05 - val_loss: 1.7944e-04\n",
      "Epoch 77/100\n",
      "75/75 [==============================] - 6s 84ms/step - loss: 7.6864e-05 - val_loss: 1.8233e-04\n",
      "Epoch 78/100\n",
      "75/75 [==============================] - 6s 84ms/step - loss: 7.9486e-05 - val_loss: 1.5251e-04\n",
      "Epoch 79/100\n",
      "75/75 [==============================] - 6s 83ms/step - loss: 7.8885e-05 - val_loss: 1.3212e-04\n",
      "Epoch 80/100\n",
      "75/75 [==============================] - 6s 83ms/step - loss: 7.7283e-05 - val_loss: 1.3137e-04\n",
      "Epoch 81/100\n",
      "75/75 [==============================] - 6s 83ms/step - loss: 6.8562e-05 - val_loss: 1.2758e-04\n",
      "Epoch 82/100\n",
      "75/75 [==============================] - 6s 82ms/step - loss: 6.8513e-05 - val_loss: 1.3645e-04\n",
      "Epoch 83/100\n",
      "75/75 [==============================] - 6s 82ms/step - loss: 7.7709e-05 - val_loss: 1.3541e-04\n",
      "Epoch 84/100\n",
      "75/75 [==============================] - 6s 81ms/step - loss: 6.9913e-05 - val_loss: 1.6192e-04\n",
      "Epoch 85/100\n",
      "75/75 [==============================] - 6s 81ms/step - loss: 6.6085e-05 - val_loss: 1.2709e-04\n",
      "Epoch 86/100\n",
      "75/75 [==============================] - 6s 81ms/step - loss: 9.5653e-05 - val_loss: 2.3189e-04\n",
      "Epoch 87/100\n",
      "75/75 [==============================] - 6s 81ms/step - loss: 6.8144e-05 - val_loss: 1.3211e-04\n",
      "Epoch 88/100\n",
      "75/75 [==============================] - 6s 83ms/step - loss: 7.6618e-05 - val_loss: 1.2928e-04\n",
      "Epoch 89/100\n",
      "75/75 [==============================] - 6s 81ms/step - loss: 7.1268e-05 - val_loss: 3.4992e-04\n",
      "Epoch 90/100\n",
      "75/75 [==============================] - 6s 80ms/step - loss: 7.2581e-05 - val_loss: 1.2264e-04\n",
      "Epoch 91/100\n",
      "75/75 [==============================] - 6s 85ms/step - loss: 6.1168e-05 - val_loss: 1.2797e-04\n",
      "Epoch 92/100\n",
      "75/75 [==============================] - 6s 82ms/step - loss: 6.3683e-05 - val_loss: 1.6279e-04\n",
      "Epoch 93/100\n",
      "75/75 [==============================] - 6s 81ms/step - loss: 6.8733e-05 - val_loss: 1.3317e-04\n",
      "Epoch 94/100\n",
      "75/75 [==============================] - 6s 82ms/step - loss: 6.1735e-05 - val_loss: 1.2735e-04\n",
      "Epoch 95/100\n",
      "75/75 [==============================] - 6s 81ms/step - loss: 8.3619e-05 - val_loss: 3.6953e-04\n",
      "Epoch 96/100\n",
      "75/75 [==============================] - 6s 80ms/step - loss: 7.7946e-05 - val_loss: 1.2015e-04\n",
      "Epoch 97/100\n",
      "75/75 [==============================] - 6s 82ms/step - loss: 6.2899e-05 - val_loss: 1.3941e-04\n",
      "Epoch 98/100\n",
      "75/75 [==============================] - 6s 82ms/step - loss: 7.7709e-05 - val_loss: 1.4621e-04\n",
      "Epoch 99/100\n",
      "75/75 [==============================] - 6s 82ms/step - loss: 6.2741e-05 - val_loss: 1.5707e-04\n",
      "Epoch 100/100\n",
      "75/75 [==============================] - 6s 82ms/step - loss: 7.0949e-05 - val_loss: 1.4198e-04\n"
     ]
    }
   ],
   "source": [
    "history = model.fit(X_train, y_train, epochs=100, batch_size=64, verbose=1, validation_split=0.2, validation_data=(X_test, y_valid))"
   ]
  },
  {
   "cell_type": "code",
   "execution_count": 17,
   "metadata": {},
   "outputs": [
    {
     "data": {
      "image/png": "[encoded data removed]",
      "text/plain": [
       "<Figure size 640x480 with 1 Axes>"
      ]
     },
     "metadata": {},
     "output_type": "display_data"
    }
   ],
   "source": [
    "# viz loss\n",
    "loss = history.history[\"loss\"]\n",
    "val_loss = history.history[\"val_loss\"]\n",
    "epochs = range(1, len(loss) + 1)\n",
    "\n",
    "# train - validation loss \n",
    "plt.plot(epochs, loss, 'b', label='Training loss')\n",
    "plt.plot(epochs, val_loss, 'r', label='Validation loss')\n",
    "plt.title('Training and Validation loss')\n",
    "plt.legend()\n",
    "plt.savefig('../figures/train-and-val-loss-crude.jpg')\n",
    "plt.show()"
   ]
  },
  {
   "cell_type": "code",
   "execution_count": 18,
   "metadata": {},
   "outputs": [],
   "source": [
    "# save model\n",
    "model.save(\"../models/crude-oil-model.h5\")"
   ]
  },
  {
   "attachments": {},
   "cell_type": "markdown",
   "metadata": {},
   "source": [
    "predict on training - test data"
   ]
  },
  {
   "cell_type": "code",
   "execution_count": 19,
   "metadata": {},
   "outputs": [],
   "source": [
    "# load model\n",
    "use_model = load_model(\"../models/crude-oil-model.h5\")"
   ]
  },
  {
   "cell_type": "code",
   "execution_count": 20,
   "metadata": {},
   "outputs": [
    {
     "name": "stdout",
     "output_type": "stream",
     "text": [
      "149/149 [==============================] - 4s 15ms/step\n",
      "80/80 [==============================] - 1s 14ms/step\n"
     ]
    }
   ],
   "source": [
    "# predict and check performance metrics\n",
    "train_predict=use_model.predict(X_train)\n",
    "test_predict=use_model.predict(X_test)"
   ]
  },
  {
   "cell_type": "code",
   "execution_count": 21,
   "metadata": {},
   "outputs": [
    {
     "name": "stdout",
     "output_type": "stream",
     "text": [
      "train rmse:  0.008221866143636144\n",
      "test rmse:  0.011915507351383078\n"
     ]
    }
   ],
   "source": [
    "train_rmse = math.sqrt(mean_squared_error(y_train, train_predict))\n",
    "test_rmse = math.sqrt(mean_squared_error(y_valid, test_predict))\n",
    "\n",
    "print(\"train rmse: \", train_rmse)\n",
    "print(\"test rmse: \", test_rmse)"
   ]
  },
  {
   "cell_type": "code",
   "execution_count": 22,
   "metadata": {},
   "outputs": [],
   "source": [
    "# transformback to original form\n",
    "train_predict=scaler.inverse_transform(train_predict)\n",
    "test_predict=scaler.inverse_transform(test_predict)"
   ]
  },
  {
   "cell_type": "code",
   "execution_count": 23,
   "metadata": {},
   "outputs": [
    {
     "data": {
      "image/png": "[encoded data removed]",
      "text/plain": [
       "<Figure size 1200x600 with 1 Axes>"
      ]
     },
     "metadata": {},
     "output_type": "display_data"
    }
   ],
   "source": [
    "# plotting\n",
    "plt.gcf().set_size_inches(12, 6, forward=True)\n",
    "currentFig = plt.gcf()\n",
    "\n",
    "\n",
    "trainPredictPlot = np.empty_like(df)\n",
    "trainPredictPlot[:,:] = np.nan\n",
    "trainPredictPlot[time_step:len(train_predict)+time_step, :] = train_predict\n",
    "\n",
    "testPredictPlot = np.empty_like(df)\n",
    "testPredictPlot[:,:] = np.nan\n",
    "testPredictPlot[len(train_predict)+time_step*2 + 1: len(df)-1, :] = test_predict\n",
    "\n",
    "plt.plot(scaler.inverse_transform(df), label=\"Actual Price\")\n",
    "plt.plot(trainPredictPlot, label=\"Predict Price - Train Dataset\", color=\"lightgreen\")\n",
    "plt.plot(testPredictPlot, label=\"Predict Price - Test Dataset\", color=\"r\", linestyle=\"dashed\")\n",
    "\n",
    "# styling\n",
    "currentFig.set_facecolor('white')\n",
    "plt.legend()\n",
    "plt.ylabel('Price in USD', fontsize=12)\n",
    "plt.title('Crude Oil Actual Price vs Prediction Price', fontsize=18)\n",
    "\n",
    "plt.savefig('../figures/lstm-performance-prediction-results.jpg')\n",
    "plt.show()"
   ]
  }
 ],
 "metadata": {
  "kernelspec": {
   "display_name": "newBunkerEnv",
   "language": "python",
   "name": "python3"
  },
  "language_info": {
   "codemirror_mode": {
    "name": "ipython",
    "version": 3
   },
   "file_extension": ".py",
   "mimetype": "text/x-python",
   "name": "python",
   "nbconvert_exporter": "python",
   "pygments_lexer": "ipython3",
   "version": "3.8.13 (default, Mar 28 2022, 06:59:08) [MSC v.1916 64 bit (AMD64)]"
  },
  "orig_nbformat": 4,
  "vscode": {
   "interpreter": {
    "hash": "a2dbe1e4839fe11c9048cbdbd90c728e60f05b5b523b5ddaa34a8ac54f3c18f1"
   }
  }
 },
 "nbformat": 4,
 "nbformat_minor": 2
}
